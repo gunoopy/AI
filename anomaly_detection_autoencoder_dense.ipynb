{
 "cells": [
  {
   "cell_type": "markdown",
   "metadata": {},
   "source": [
    "# Anomaly Detection using Autoencoder\n",
    "> by Dense Layer"
   ]
  },
  {
   "cell_type": "markdown",
   "metadata": {},
   "source": [
    "<br/>\n",
    "<br/>"
   ]
  },
  {
   "cell_type": "code",
   "execution_count": 1,
   "metadata": {
    "ExecuteTime": {
     "end_time": "2021-12-27T08:49:20.873171Z",
     "start_time": "2021-12-27T08:49:14.979456Z"
    }
   },
   "outputs": [
    {
     "data": {
      "text/plain": [
       "'2.4.1'"
      ]
     },
     "execution_count": 1,
     "metadata": {},
     "output_type": "execute_result"
    }
   ],
   "source": [
    "import numpy as np\n",
    "import pandas as pd\n",
    "import matplotlib.pyplot as plt\n",
    "import seaborn as sns\n",
    "import tensorflow as tf\n",
    "tf.__version__"
   ]
  },
  {
   "cell_type": "markdown",
   "metadata": {},
   "source": [
    "<br/>\n",
    "<br/>\n",
    "<br/>\n",
    "<br/>"
   ]
  },
  {
   "cell_type": "markdown",
   "metadata": {},
   "source": [
    "## Data"
   ]
  },
  {
   "cell_type": "code",
   "execution_count": 2,
   "metadata": {
    "ExecuteTime": {
     "end_time": "2021-12-27T08:49:23.579234Z",
     "start_time": "2021-12-27T08:49:20.873171Z"
    }
   },
   "outputs": [
    {
     "data": {
      "text/html": [
       "<div>\n",
       "<style scoped>\n",
       "    .dataframe tbody tr th:only-of-type {\n",
       "        vertical-align: middle;\n",
       "    }\n",
       "\n",
       "    .dataframe tbody tr th {\n",
       "        vertical-align: top;\n",
       "    }\n",
       "\n",
       "    .dataframe thead th {\n",
       "        text-align: right;\n",
       "    }\n",
       "</style>\n",
       "<table border=\"1\" class=\"dataframe\">\n",
       "  <thead>\n",
       "    <tr style=\"text-align: right;\">\n",
       "      <th></th>\n",
       "      <th>Time</th>\n",
       "      <th>V1</th>\n",
       "      <th>V2</th>\n",
       "      <th>V3</th>\n",
       "      <th>V4</th>\n",
       "      <th>V5</th>\n",
       "      <th>V6</th>\n",
       "      <th>V7</th>\n",
       "      <th>V8</th>\n",
       "      <th>V9</th>\n",
       "      <th>...</th>\n",
       "      <th>V21</th>\n",
       "      <th>V22</th>\n",
       "      <th>V23</th>\n",
       "      <th>V24</th>\n",
       "      <th>V25</th>\n",
       "      <th>V26</th>\n",
       "      <th>V27</th>\n",
       "      <th>V28</th>\n",
       "      <th>Amount</th>\n",
       "      <th>Class</th>\n",
       "    </tr>\n",
       "  </thead>\n",
       "  <tbody>\n",
       "    <tr>\n",
       "      <th>0</th>\n",
       "      <td>0.0</td>\n",
       "      <td>-1.359807</td>\n",
       "      <td>-0.072781</td>\n",
       "      <td>2.536347</td>\n",
       "      <td>1.378155</td>\n",
       "      <td>-0.338321</td>\n",
       "      <td>0.462388</td>\n",
       "      <td>0.239599</td>\n",
       "      <td>0.098698</td>\n",
       "      <td>0.363787</td>\n",
       "      <td>...</td>\n",
       "      <td>-0.018307</td>\n",
       "      <td>0.277838</td>\n",
       "      <td>-0.110474</td>\n",
       "      <td>0.066928</td>\n",
       "      <td>0.128539</td>\n",
       "      <td>-0.189115</td>\n",
       "      <td>0.133558</td>\n",
       "      <td>-0.021053</td>\n",
       "      <td>149.62</td>\n",
       "      <td>0</td>\n",
       "    </tr>\n",
       "    <tr>\n",
       "      <th>1</th>\n",
       "      <td>0.0</td>\n",
       "      <td>1.191857</td>\n",
       "      <td>0.266151</td>\n",
       "      <td>0.166480</td>\n",
       "      <td>0.448154</td>\n",
       "      <td>0.060018</td>\n",
       "      <td>-0.082361</td>\n",
       "      <td>-0.078803</td>\n",
       "      <td>0.085102</td>\n",
       "      <td>-0.255425</td>\n",
       "      <td>...</td>\n",
       "      <td>-0.225775</td>\n",
       "      <td>-0.638672</td>\n",
       "      <td>0.101288</td>\n",
       "      <td>-0.339846</td>\n",
       "      <td>0.167170</td>\n",
       "      <td>0.125895</td>\n",
       "      <td>-0.008983</td>\n",
       "      <td>0.014724</td>\n",
       "      <td>2.69</td>\n",
       "      <td>0</td>\n",
       "    </tr>\n",
       "    <tr>\n",
       "      <th>2</th>\n",
       "      <td>1.0</td>\n",
       "      <td>-1.358354</td>\n",
       "      <td>-1.340163</td>\n",
       "      <td>1.773209</td>\n",
       "      <td>0.379780</td>\n",
       "      <td>-0.503198</td>\n",
       "      <td>1.800499</td>\n",
       "      <td>0.791461</td>\n",
       "      <td>0.247676</td>\n",
       "      <td>-1.514654</td>\n",
       "      <td>...</td>\n",
       "      <td>0.247998</td>\n",
       "      <td>0.771679</td>\n",
       "      <td>0.909412</td>\n",
       "      <td>-0.689281</td>\n",
       "      <td>-0.327642</td>\n",
       "      <td>-0.139097</td>\n",
       "      <td>-0.055353</td>\n",
       "      <td>-0.059752</td>\n",
       "      <td>378.66</td>\n",
       "      <td>0</td>\n",
       "    </tr>\n",
       "    <tr>\n",
       "      <th>3</th>\n",
       "      <td>1.0</td>\n",
       "      <td>-0.966272</td>\n",
       "      <td>-0.185226</td>\n",
       "      <td>1.792993</td>\n",
       "      <td>-0.863291</td>\n",
       "      <td>-0.010309</td>\n",
       "      <td>1.247203</td>\n",
       "      <td>0.237609</td>\n",
       "      <td>0.377436</td>\n",
       "      <td>-1.387024</td>\n",
       "      <td>...</td>\n",
       "      <td>-0.108300</td>\n",
       "      <td>0.005274</td>\n",
       "      <td>-0.190321</td>\n",
       "      <td>-1.175575</td>\n",
       "      <td>0.647376</td>\n",
       "      <td>-0.221929</td>\n",
       "      <td>0.062723</td>\n",
       "      <td>0.061458</td>\n",
       "      <td>123.50</td>\n",
       "      <td>0</td>\n",
       "    </tr>\n",
       "    <tr>\n",
       "      <th>4</th>\n",
       "      <td>2.0</td>\n",
       "      <td>-1.158233</td>\n",
       "      <td>0.877737</td>\n",
       "      <td>1.548718</td>\n",
       "      <td>0.403034</td>\n",
       "      <td>-0.407193</td>\n",
       "      <td>0.095921</td>\n",
       "      <td>0.592941</td>\n",
       "      <td>-0.270533</td>\n",
       "      <td>0.817739</td>\n",
       "      <td>...</td>\n",
       "      <td>-0.009431</td>\n",
       "      <td>0.798278</td>\n",
       "      <td>-0.137458</td>\n",
       "      <td>0.141267</td>\n",
       "      <td>-0.206010</td>\n",
       "      <td>0.502292</td>\n",
       "      <td>0.219422</td>\n",
       "      <td>0.215153</td>\n",
       "      <td>69.99</td>\n",
       "      <td>0</td>\n",
       "    </tr>\n",
       "  </tbody>\n",
       "</table>\n",
       "<p>5 rows × 31 columns</p>\n",
       "</div>"
      ],
      "text/plain": [
       "   Time        V1        V2        V3        V4        V5        V6        V7  \\\n",
       "0   0.0 -1.359807 -0.072781  2.536347  1.378155 -0.338321  0.462388  0.239599   \n",
       "1   0.0  1.191857  0.266151  0.166480  0.448154  0.060018 -0.082361 -0.078803   \n",
       "2   1.0 -1.358354 -1.340163  1.773209  0.379780 -0.503198  1.800499  0.791461   \n",
       "3   1.0 -0.966272 -0.185226  1.792993 -0.863291 -0.010309  1.247203  0.237609   \n",
       "4   2.0 -1.158233  0.877737  1.548718  0.403034 -0.407193  0.095921  0.592941   \n",
       "\n",
       "         V8        V9  ...       V21       V22       V23       V24       V25  \\\n",
       "0  0.098698  0.363787  ... -0.018307  0.277838 -0.110474  0.066928  0.128539   \n",
       "1  0.085102 -0.255425  ... -0.225775 -0.638672  0.101288 -0.339846  0.167170   \n",
       "2  0.247676 -1.514654  ...  0.247998  0.771679  0.909412 -0.689281 -0.327642   \n",
       "3  0.377436 -1.387024  ... -0.108300  0.005274 -0.190321 -1.175575  0.647376   \n",
       "4 -0.270533  0.817739  ... -0.009431  0.798278 -0.137458  0.141267 -0.206010   \n",
       "\n",
       "        V26       V27       V28  Amount  Class  \n",
       "0 -0.189115  0.133558 -0.021053  149.62      0  \n",
       "1  0.125895 -0.008983  0.014724    2.69      0  \n",
       "2 -0.139097 -0.055353 -0.059752  378.66      0  \n",
       "3 -0.221929  0.062723  0.061458  123.50      0  \n",
       "4  0.502292  0.219422  0.215153   69.99      0  \n",
       "\n",
       "[5 rows x 31 columns]"
      ]
     },
     "execution_count": 2,
     "metadata": {},
     "output_type": "execute_result"
    }
   ],
   "source": [
    "df = pd.read_csv('datasets/creditcard.csv')\n",
    "df.head()"
   ]
  },
  {
   "cell_type": "code",
   "execution_count": 3,
   "metadata": {
    "ExecuteTime": {
     "end_time": "2021-12-27T08:49:23.603042Z",
     "start_time": "2021-12-27T08:49:23.587232Z"
    }
   },
   "outputs": [
    {
     "data": {
      "text/plain": [
       "(284807, 31)"
      ]
     },
     "execution_count": 3,
     "metadata": {},
     "output_type": "execute_result"
    }
   ],
   "source": [
    "df.shape"
   ]
  },
  {
   "cell_type": "code",
   "execution_count": 4,
   "metadata": {
    "ExecuteTime": {
     "end_time": "2021-12-27T08:49:23.683417Z",
     "start_time": "2021-12-27T08:49:23.605136Z"
    }
   },
   "outputs": [
    {
     "name": "stdout",
     "output_type": "stream",
     "text": [
      "<class 'pandas.core.frame.DataFrame'>\n",
      "RangeIndex: 284807 entries, 0 to 284806\n",
      "Data columns (total 31 columns):\n",
      " #   Column  Non-Null Count   Dtype  \n",
      "---  ------  --------------   -----  \n",
      " 0   Time    284807 non-null  float64\n",
      " 1   V1      284807 non-null  float64\n",
      " 2   V2      284807 non-null  float64\n",
      " 3   V3      284807 non-null  float64\n",
      " 4   V4      284807 non-null  float64\n",
      " 5   V5      284807 non-null  float64\n",
      " 6   V6      284807 non-null  float64\n",
      " 7   V7      284807 non-null  float64\n",
      " 8   V8      284807 non-null  float64\n",
      " 9   V9      284807 non-null  float64\n",
      " 10  V10     284807 non-null  float64\n",
      " 11  V11     284807 non-null  float64\n",
      " 12  V12     284807 non-null  float64\n",
      " 13  V13     284807 non-null  float64\n",
      " 14  V14     284807 non-null  float64\n",
      " 15  V15     284807 non-null  float64\n",
      " 16  V16     284807 non-null  float64\n",
      " 17  V17     284807 non-null  float64\n",
      " 18  V18     284807 non-null  float64\n",
      " 19  V19     284807 non-null  float64\n",
      " 20  V20     284807 non-null  float64\n",
      " 21  V21     284807 non-null  float64\n",
      " 22  V22     284807 non-null  float64\n",
      " 23  V23     284807 non-null  float64\n",
      " 24  V24     284807 non-null  float64\n",
      " 25  V25     284807 non-null  float64\n",
      " 26  V26     284807 non-null  float64\n",
      " 27  V27     284807 non-null  float64\n",
      " 28  V28     284807 non-null  float64\n",
      " 29  Amount  284807 non-null  float64\n",
      " 30  Class   284807 non-null  int64  \n",
      "dtypes: float64(30), int64(1)\n",
      "memory usage: 67.4 MB\n"
     ]
    }
   ],
   "source": [
    "df.info()"
   ]
  },
  {
   "cell_type": "code",
   "execution_count": 5,
   "metadata": {
    "ExecuteTime": {
     "end_time": "2021-12-27T08:49:23.722337Z",
     "start_time": "2021-12-27T08:49:23.683417Z"
    }
   },
   "outputs": [
    {
     "data": {
      "text/plain": [
       "0"
      ]
     },
     "execution_count": 5,
     "metadata": {},
     "output_type": "execute_result"
    }
   ],
   "source": [
    "df.isna().sum().sum()"
   ]
  },
  {
   "cell_type": "code",
   "execution_count": 6,
   "metadata": {
    "ExecuteTime": {
     "end_time": "2021-12-27T08:49:23.743658Z",
     "start_time": "2021-12-27T08:49:23.724924Z"
    }
   },
   "outputs": [
    {
     "data": {
      "text/plain": [
       "0    284315\n",
       "1       492\n",
       "Name: Class, dtype: int64"
      ]
     },
     "execution_count": 6,
     "metadata": {},
     "output_type": "execute_result"
    }
   ],
   "source": [
    "df['Class'].value_counts()"
   ]
  },
  {
   "cell_type": "markdown",
   "metadata": {},
   "source": [
    "<br/>\n",
    "<br/>\n",
    "<br/>\n",
    "<br/>"
   ]
  },
  {
   "cell_type": "markdown",
   "metadata": {},
   "source": [
    "## Ratio of Fraud"
   ]
  },
  {
   "cell_type": "code",
   "execution_count": 7,
   "metadata": {
    "ExecuteTime": {
     "end_time": "2021-12-27T08:49:23.915727Z",
     "start_time": "2021-12-27T08:49:23.746281Z"
    }
   },
   "outputs": [
    {
     "data": {
      "image/png": "[encoded data removed]",
      "text/plain": [
       "<Figure size 432x432 with 1 Axes>"
      ]
     },
     "metadata": {},
     "output_type": "display_data"
    }
   ],
   "source": [
    "colors = ['#caf6ac', '#ffb3ad']\n",
    "\n",
    "plt.figure(figsize = (6,6))\n",
    "\n",
    "plt.pie(df['Class'].value_counts(),\n",
    "        labels = ['Normal', 'Fraud'],\n",
    "        colors = colors,\n",
    "        autopct = '%.2f%%',\n",
    "        startangle = 90)\n",
    "\n",
    "plt.title('Fraud Ratio')\n",
    "plt.show()"
   ]
  },
  {
   "cell_type": "markdown",
   "metadata": {},
   "source": [
    "<br/>\n",
    "<br/>\n",
    "<br/>\n",
    "<br/>"
   ]
  },
  {
   "cell_type": "markdown",
   "metadata": {},
   "source": [
    "## Split into Normal & Fraud"
   ]
  },
  {
   "cell_type": "code",
   "execution_count": 8,
   "metadata": {
    "ExecuteTime": {
     "end_time": "2021-12-27T08:49:23.979747Z",
     "start_time": "2021-12-27T08:49:23.915727Z"
    }
   },
   "outputs": [
    {
     "data": {
      "text/plain": [
       "((492, 31), (284315, 31))"
      ]
     },
     "execution_count": 8,
     "metadata": {},
     "output_type": "execute_result"
    }
   ],
   "source": [
    "df_fraud = df[df['Class'] == 1]\n",
    "df_normal = df[df['Class'] == 0]\n",
    "\n",
    "df_fraud.shape, df_normal.shape"
   ]
  },
  {
   "cell_type": "code",
   "execution_count": 9,
   "metadata": {
    "ExecuteTime": {
     "end_time": "2021-12-27T08:49:23.995753Z",
     "start_time": "2021-12-27T08:49:23.979747Z"
    }
   },
   "outputs": [
    {
     "data": {
      "text/plain": [
       "count     492.000000\n",
       "mean      122.211321\n",
       "std       256.683288\n",
       "min         0.000000\n",
       "25%         1.000000\n",
       "50%         9.250000\n",
       "75%       105.890000\n",
       "max      2125.870000\n",
       "Name: Amount, dtype: float64"
      ]
     },
     "execution_count": 9,
     "metadata": {},
     "output_type": "execute_result"
    }
   ],
   "source": [
    "# Amount of fraud data\n",
    "df_fraud['Amount'].describe()"
   ]
  },
  {
   "cell_type": "code",
   "execution_count": 10,
   "metadata": {
    "ExecuteTime": {
     "end_time": "2021-12-27T08:49:24.027756Z",
     "start_time": "2021-12-27T08:49:23.995753Z"
    }
   },
   "outputs": [
    {
     "data": {
      "text/plain": [
       "count    284315.000000\n",
       "mean         88.291022\n",
       "std         250.105092\n",
       "min           0.000000\n",
       "25%           5.650000\n",
       "50%          22.000000\n",
       "75%          77.050000\n",
       "max       25691.160000\n",
       "Name: Amount, dtype: float64"
      ]
     },
     "execution_count": 10,
     "metadata": {},
     "output_type": "execute_result"
    }
   ],
   "source": [
    "# Amount of normal data\n",
    "df_normal['Amount'].describe()"
   ]
  },
  {
   "cell_type": "code",
   "execution_count": 11,
   "metadata": {
    "ExecuteTime": {
     "end_time": "2021-12-27T08:49:25.735697Z",
     "start_time": "2021-12-27T08:49:24.027756Z"
    }
   },
   "outputs": [
    {
     "data": {
      "image/png": "[encoded data removed]",
      "text/plain": [
       "<Figure size 864x576 with 2 Axes>"
      ]
     },
     "metadata": {
      "needs_background": "light"
     },
     "output_type": "display_data"
    }
   ],
   "source": [
    "fig, (ax1, ax2) = plt.subplots(2, 1, sharex = True, figsize = (12,8))\n",
    "fig.suptitle('Amount per transaction by class', fontsize = 20)\n",
    "\n",
    "bins = 50\n",
    "\n",
    "ax1.hist(df_fraud['Amount'], bins = bins, color = colors[1])\n",
    "ax1.set_title('Fraud')\n",
    "\n",
    "ax2.hist(df_normal['Amount'], bins = bins, color = colors[0])\n",
    "ax2.set_title('Normal')\n",
    "\n",
    "plt.xlim(0, 20000)\n",
    "plt.yscale('log')\n",
    "plt.show()"
   ]
  },
  {
   "cell_type": "markdown",
   "metadata": {},
   "source": [
    "<br/>\n",
    "<br/>\n",
    "<br/>\n",
    "<br/>"
   ]
  },
  {
   "cell_type": "markdown",
   "metadata": {},
   "source": [
    "## Scaling"
   ]
  },
  {
   "cell_type": "code",
   "execution_count": 12,
   "metadata": {
    "ExecuteTime": {
     "end_time": "2021-12-27T08:49:25.927758Z",
     "start_time": "2021-12-27T08:49:25.735697Z"
    }
   },
   "outputs": [],
   "source": [
    "from sklearn.preprocessing import StandardScaler\n",
    "\n",
    "df = df.drop('Time', axis = 1)\n",
    "df['Amount'] = StandardScaler().fit_transform(df[['Amount']])"
   ]
  },
  {
   "cell_type": "code",
   "execution_count": 13,
   "metadata": {
    "ExecuteTime": {
     "end_time": "2021-12-27T08:49:25.959263Z",
     "start_time": "2021-12-27T08:49:25.927758Z"
    }
   },
   "outputs": [
    {
     "data": {
      "text/html": [
       "<div>\n",
       "<style scoped>\n",
       "    .dataframe tbody tr th:only-of-type {\n",
       "        vertical-align: middle;\n",
       "    }\n",
       "\n",
       "    .dataframe tbody tr th {\n",
       "        vertical-align: top;\n",
       "    }\n",
       "\n",
       "    .dataframe thead th {\n",
       "        text-align: right;\n",
       "    }\n",
       "</style>\n",
       "<table border=\"1\" class=\"dataframe\">\n",
       "  <thead>\n",
       "    <tr style=\"text-align: right;\">\n",
       "      <th></th>\n",
       "      <th>V1</th>\n",
       "      <th>V2</th>\n",
       "      <th>V3</th>\n",
       "      <th>V4</th>\n",
       "      <th>V5</th>\n",
       "      <th>V6</th>\n",
       "      <th>V7</th>\n",
       "      <th>V8</th>\n",
       "      <th>V9</th>\n",
       "      <th>V10</th>\n",
       "      <th>...</th>\n",
       "      <th>V21</th>\n",
       "      <th>V22</th>\n",
       "      <th>V23</th>\n",
       "      <th>V24</th>\n",
       "      <th>V25</th>\n",
       "      <th>V26</th>\n",
       "      <th>V27</th>\n",
       "      <th>V28</th>\n",
       "      <th>Amount</th>\n",
       "      <th>Class</th>\n",
       "    </tr>\n",
       "  </thead>\n",
       "  <tbody>\n",
       "    <tr>\n",
       "      <th>0</th>\n",
       "      <td>-1.359807</td>\n",
       "      <td>-0.072781</td>\n",
       "      <td>2.536347</td>\n",
       "      <td>1.378155</td>\n",
       "      <td>-0.338321</td>\n",
       "      <td>0.462388</td>\n",
       "      <td>0.239599</td>\n",
       "      <td>0.098698</td>\n",
       "      <td>0.363787</td>\n",
       "      <td>0.090794</td>\n",
       "      <td>...</td>\n",
       "      <td>-0.018307</td>\n",
       "      <td>0.277838</td>\n",
       "      <td>-0.110474</td>\n",
       "      <td>0.066928</td>\n",
       "      <td>0.128539</td>\n",
       "      <td>-0.189115</td>\n",
       "      <td>0.133558</td>\n",
       "      <td>-0.021053</td>\n",
       "      <td>0.244964</td>\n",
       "      <td>0</td>\n",
       "    </tr>\n",
       "    <tr>\n",
       "      <th>1</th>\n",
       "      <td>1.191857</td>\n",
       "      <td>0.266151</td>\n",
       "      <td>0.166480</td>\n",
       "      <td>0.448154</td>\n",
       "      <td>0.060018</td>\n",
       "      <td>-0.082361</td>\n",
       "      <td>-0.078803</td>\n",
       "      <td>0.085102</td>\n",
       "      <td>-0.255425</td>\n",
       "      <td>-0.166974</td>\n",
       "      <td>...</td>\n",
       "      <td>-0.225775</td>\n",
       "      <td>-0.638672</td>\n",
       "      <td>0.101288</td>\n",
       "      <td>-0.339846</td>\n",
       "      <td>0.167170</td>\n",
       "      <td>0.125895</td>\n",
       "      <td>-0.008983</td>\n",
       "      <td>0.014724</td>\n",
       "      <td>-0.342475</td>\n",
       "      <td>0</td>\n",
       "    </tr>\n",
       "    <tr>\n",
       "      <th>2</th>\n",
       "      <td>-1.358354</td>\n",
       "      <td>-1.340163</td>\n",
       "      <td>1.773209</td>\n",
       "      <td>0.379780</td>\n",
       "      <td>-0.503198</td>\n",
       "      <td>1.800499</td>\n",
       "      <td>0.791461</td>\n",
       "      <td>0.247676</td>\n",
       "      <td>-1.514654</td>\n",
       "      <td>0.207643</td>\n",
       "      <td>...</td>\n",
       "      <td>0.247998</td>\n",
       "      <td>0.771679</td>\n",
       "      <td>0.909412</td>\n",
       "      <td>-0.689281</td>\n",
       "      <td>-0.327642</td>\n",
       "      <td>-0.139097</td>\n",
       "      <td>-0.055353</td>\n",
       "      <td>-0.059752</td>\n",
       "      <td>1.160686</td>\n",
       "      <td>0</td>\n",
       "    </tr>\n",
       "    <tr>\n",
       "      <th>3</th>\n",
       "      <td>-0.966272</td>\n",
       "      <td>-0.185226</td>\n",
       "      <td>1.792993</td>\n",
       "      <td>-0.863291</td>\n",
       "      <td>-0.010309</td>\n",
       "      <td>1.247203</td>\n",
       "      <td>0.237609</td>\n",
       "      <td>0.377436</td>\n",
       "      <td>-1.387024</td>\n",
       "      <td>-0.054952</td>\n",
       "      <td>...</td>\n",
       "      <td>-0.108300</td>\n",
       "      <td>0.005274</td>\n",
       "      <td>-0.190321</td>\n",
       "      <td>-1.175575</td>\n",
       "      <td>0.647376</td>\n",
       "      <td>-0.221929</td>\n",
       "      <td>0.062723</td>\n",
       "      <td>0.061458</td>\n",
       "      <td>0.140534</td>\n",
       "      <td>0</td>\n",
       "    </tr>\n",
       "    <tr>\n",
       "      <th>4</th>\n",
       "      <td>-1.158233</td>\n",
       "      <td>0.877737</td>\n",
       "      <td>1.548718</td>\n",
       "      <td>0.403034</td>\n",
       "      <td>-0.407193</td>\n",
       "      <td>0.095921</td>\n",
       "      <td>0.592941</td>\n",
       "      <td>-0.270533</td>\n",
       "      <td>0.817739</td>\n",
       "      <td>0.753074</td>\n",
       "      <td>...</td>\n",
       "      <td>-0.009431</td>\n",
       "      <td>0.798278</td>\n",
       "      <td>-0.137458</td>\n",
       "      <td>0.141267</td>\n",
       "      <td>-0.206010</td>\n",
       "      <td>0.502292</td>\n",
       "      <td>0.219422</td>\n",
       "      <td>0.215153</td>\n",
       "      <td>-0.073403</td>\n",
       "      <td>0</td>\n",
       "    </tr>\n",
       "  </tbody>\n",
       "</table>\n",
       "<p>5 rows × 30 columns</p>\n",
       "</div>"
      ],
      "text/plain": [
       "         V1        V2        V3        V4        V5        V6        V7  \\\n",
       "0 -1.359807 -0.072781  2.536347  1.378155 -0.338321  0.462388  0.239599   \n",
       "1  1.191857  0.266151  0.166480  0.448154  0.060018 -0.082361 -0.078803   \n",
       "2 -1.358354 -1.340163  1.773209  0.379780 -0.503198  1.800499  0.791461   \n",
       "3 -0.966272 -0.185226  1.792993 -0.863291 -0.010309  1.247203  0.237609   \n",
       "4 -1.158233  0.877737  1.548718  0.403034 -0.407193  0.095921  0.592941   \n",
       "\n",
       "         V8        V9       V10  ...       V21       V22       V23       V24  \\\n",
       "0  0.098698  0.363787  0.090794  ... -0.018307  0.277838 -0.110474  0.066928   \n",
       "1  0.085102 -0.255425 -0.166974  ... -0.225775 -0.638672  0.101288 -0.339846   \n",
       "2  0.247676 -1.514654  0.207643  ...  0.247998  0.771679  0.909412 -0.689281   \n",
       "3  0.377436 -1.387024 -0.054952  ... -0.108300  0.005274 -0.190321 -1.175575   \n",
       "4 -0.270533  0.817739  0.753074  ... -0.009431  0.798278 -0.137458  0.141267   \n",
       "\n",
       "        V25       V26       V27       V28    Amount  Class  \n",
       "0  0.128539 -0.189115  0.133558 -0.021053  0.244964      0  \n",
       "1  0.167170  0.125895 -0.008983  0.014724 -0.342475      0  \n",
       "2 -0.327642 -0.139097 -0.055353 -0.059752  1.160686      0  \n",
       "3  0.647376 -0.221929  0.062723  0.061458  0.140534      0  \n",
       "4 -0.206010  0.502292  0.219422  0.215153 -0.073403      0  \n",
       "\n",
       "[5 rows x 30 columns]"
      ]
     },
     "execution_count": 13,
     "metadata": {},
     "output_type": "execute_result"
    }
   ],
   "source": [
    "df.head()"
   ]
  },
  {
   "cell_type": "markdown",
   "metadata": {},
   "source": [
    "<br/>\n",
    "<br/>\n",
    "<br/>\n",
    "<br/>"
   ]
  },
  {
   "cell_type": "markdown",
   "metadata": {},
   "source": [
    "## Split into train & test data"
   ]
  },
  {
   "cell_type": "code",
   "execution_count": 14,
   "metadata": {
    "ExecuteTime": {
     "end_time": "2021-12-27T08:49:26.401436Z",
     "start_time": "2021-12-27T08:49:25.961325Z"
    }
   },
   "outputs": [
    {
     "data": {
      "text/plain": [
       "((227451, 29), (56962, 29), (56962,))"
      ]
     },
     "execution_count": 14,
     "metadata": {},
     "output_type": "execute_result"
    }
   ],
   "source": [
    "from sklearn.model_selection import train_test_split\n",
    "\n",
    "train, test = train_test_split(df, test_size = 0.2, random_state = 42)\n",
    "train = train[train['Class'] == 0] # train only normal data\n",
    "train = train.drop('Class', axis = 1)\n",
    "\n",
    "test, y_test = test.drop('Class', axis = 1), test['Class']\n",
    "\n",
    "train = train.values\n",
    "test = test.values\n",
    "\n",
    "train.shape, test.shape, y_test.shape"
   ]
  },
  {
   "cell_type": "markdown",
   "metadata": {},
   "source": [
    "<br/>\n",
    "<br/>\n",
    "<br/>\n",
    "<br/>"
   ]
  },
  {
   "cell_type": "markdown",
   "metadata": {},
   "source": [
    "## Modeling"
   ]
  },
  {
   "cell_type": "code",
   "execution_count": 15,
   "metadata": {
    "ExecuteTime": {
     "end_time": "2021-12-27T08:49:26.521967Z",
     "start_time": "2021-12-27T08:49:26.401436Z"
    }
   },
   "outputs": [
    {
     "name": "stdout",
     "output_type": "stream",
     "text": [
      "Model: \"model\"\n",
      "_________________________________________________________________\n",
      "Layer (type)                 Output Shape              Param #   \n",
      "=================================================================\n",
      "input_1 (InputLayer)         [(None, 29)]              0         \n",
      "_________________________________________________________________\n",
      "dense (Dense)                (None, 14)                420       \n",
      "_________________________________________________________________\n",
      "dense_1 (Dense)              (None, 7)                 105       \n",
      "_________________________________________________________________\n",
      "dense_2 (Dense)              (None, 14)                112       \n",
      "_________________________________________________________________\n",
      "dense_3 (Dense)              (None, 29)                435       \n",
      "=================================================================\n",
      "Total params: 1,072\n",
      "Trainable params: 1,072\n",
      "Non-trainable params: 0\n",
      "_________________________________________________________________\n"
     ]
    }
   ],
   "source": [
    "from tensorflow.keras import models, layers\n",
    "\n",
    "input_dim = train.shape[1] # 29\n",
    "encoding_dim = input_dim // 2 # 14\n",
    "\n",
    "\n",
    "#\n",
    "# Modeling\n",
    "#\n",
    "\n",
    "input_layer = layers.Input(shape = (input_dim, ))\n",
    "\n",
    "encoder = layers.Dense(encoding_dim, activation = 'tanh')(input_layer)\n",
    "encoder = layers.Dense(encoding_dim // 2, activation = 'relu')(encoder)\n",
    "\n",
    "decoder = layers.Dense(encoding_dim, activation = 'tanh')(encoder)\n",
    "decoder = layers.Dense(input_dim)(decoder)\n",
    "\n",
    "autoencoder = models.Model(input_layer, decoder)\n",
    "\n",
    "\n",
    "#\n",
    "# Compile\n",
    "#\n",
    "\n",
    "autoencoder.compile(loss = 'mean_squared_error',\n",
    "                    optimizer = 'adam',\n",
    "                    metrics = ['mse'])\n",
    "\n",
    "autoencoder.summary()"
   ]
  },
  {
   "cell_type": "code",
   "execution_count": 16,
   "metadata": {
    "ExecuteTime": {
     "end_time": "2021-12-27T08:49:26.538162Z",
     "start_time": "2021-12-27T08:49:26.521967Z"
    }
   },
   "outputs": [],
   "source": [
    "from tensorflow.keras.callbacks import ModelCheckpoint, EarlyStopping\n",
    "\n",
    "es = EarlyStopping(monitor = 'val_loss',\n",
    "                   patience = 5,\n",
    "                   verbose = 1,\n",
    "                   mode = 'min')"
   ]
  },
  {
   "cell_type": "code",
   "execution_count": 17,
   "metadata": {
    "ExecuteTime": {
     "end_time": "2021-12-27T08:54:51.639309Z",
     "start_time": "2021-12-27T08:49:26.538162Z"
    }
   },
   "outputs": [
    {
     "name": "stdout",
     "output_type": "stream",
     "text": [
      "Epoch 1/100\n",
      "7108/7108 [==============================] - 10s 1ms/step - loss: 0.6723 - mse: 0.6723 - val_loss: 0.4959 - val_mse: 0.4959\n",
      "Epoch 2/100\n",
      "7108/7108 [==============================] - 9s 1ms/step - loss: 0.4498 - mse: 0.4498 - val_loss: 0.4432 - val_mse: 0.4432\n",
      "Epoch 3/100\n",
      "7108/7108 [==============================] - 8s 1ms/step - loss: 0.4030 - mse: 0.4030 - val_loss: 0.4152 - val_mse: 0.4152\n",
      "Epoch 4/100\n",
      "7108/7108 [==============================] - 8s 1ms/step - loss: 0.3679 - mse: 0.3679 - val_loss: 0.3927 - val_mse: 0.3927\n",
      "Epoch 5/100\n",
      "7108/7108 [==============================] - 12s 2ms/step - loss: 0.3596 - mse: 0.3596 - val_loss: 0.3797 - val_mse: 0.3797\n",
      "Epoch 6/100\n",
      "7108/7108 [==============================] - 8s 1ms/step - loss: 0.3380 - mse: 0.3380 - val_loss: 0.3783 - val_mse: 0.3783\n",
      "Epoch 7/100\n",
      "7108/7108 [==============================] - 9s 1ms/step - loss: 0.3305 - mse: 0.3305 - val_loss: 0.3665 - val_mse: 0.3665\n",
      "Epoch 8/100\n",
      "7108/7108 [==============================] - 8s 1ms/step - loss: 0.3324 - mse: 0.3324 - val_loss: 0.3768 - val_mse: 0.3768\n",
      "Epoch 9/100\n",
      "7108/7108 [==============================] - 9s 1ms/step - loss: 0.3334 - mse: 0.3334 - val_loss: 0.3630 - val_mse: 0.3630\n",
      "Epoch 10/100\n",
      "7108/7108 [==============================] - 8s 1ms/step - loss: 0.3275 - mse: 0.3275 - val_loss: 0.3602 - val_mse: 0.3602\n",
      "Epoch 11/100\n",
      "7108/7108 [==============================] - 10s 1ms/step - loss: 0.3298 - mse: 0.3298 - val_loss: 0.3590 - val_mse: 0.3590\n",
      "Epoch 12/100\n",
      "7108/7108 [==============================] - 13s 2ms/step - loss: 0.3288 - mse: 0.3288 - val_loss: 0.3546 - val_mse: 0.3546\n",
      "Epoch 13/100\n",
      "7108/7108 [==============================] - 13s 2ms/step - loss: 0.3353 - mse: 0.3353 - val_loss: 0.3544 - val_mse: 0.3544\n",
      "Epoch 14/100\n",
      "7108/7108 [==============================] - 10s 1ms/step - loss: 0.3404 - mse: 0.3404 - val_loss: 0.3543 - val_mse: 0.3543\n",
      "Epoch 15/100\n",
      "7108/7108 [==============================] - 9s 1ms/step - loss: 0.3215 - mse: 0.3215 - val_loss: 0.3547 - val_mse: 0.3547\n",
      "Epoch 16/100\n",
      "7108/7108 [==============================] - 8s 1ms/step - loss: 0.3187 - mse: 0.3187 - val_loss: 0.3511 - val_mse: 0.3511\n",
      "Epoch 17/100\n",
      "7108/7108 [==============================] - 9s 1ms/step - loss: 0.3270 - mse: 0.3270 - val_loss: 0.3577 - val_mse: 0.3577\n",
      "Epoch 18/100\n",
      "7108/7108 [==============================] - 11s 1ms/step - loss: 0.3229 - mse: 0.3229 - val_loss: 0.3520 - val_mse: 0.3520\n",
      "Epoch 19/100\n",
      "7108/7108 [==============================] - 10s 1ms/step - loss: 0.3254 - mse: 0.3254 - val_loss: 0.3499 - val_mse: 0.3499\n",
      "Epoch 20/100\n",
      "7108/7108 [==============================] - 10s 1ms/step - loss: 0.3309 - mse: 0.3309 - val_loss: 0.3487 - val_mse: 0.3487\n",
      "Epoch 21/100\n",
      "7108/7108 [==============================] - 10s 1ms/step - loss: 0.3187 - mse: 0.3187 - val_loss: 0.3505 - val_mse: 0.3505\n",
      "Epoch 22/100\n",
      "7108/7108 [==============================] - 12s 2ms/step - loss: 0.3128 - mse: 0.3128 - val_loss: 0.3552 - val_mse: 0.3552\n",
      "Epoch 23/100\n",
      "7108/7108 [==============================] - 11s 2ms/step - loss: 0.3183 - mse: 0.3183 - val_loss: 0.3507 - val_mse: 0.3507\n",
      "Epoch 24/100\n",
      "7108/7108 [==============================] - 11s 2ms/step - loss: 0.3149 - mse: 0.3149 - val_loss: 0.3461 - val_mse: 0.3461\n",
      "Epoch 25/100\n",
      "7108/7108 [==============================] - 9s 1ms/step - loss: 0.3138 - mse: 0.3138 - val_loss: 0.3465 - val_mse: 0.3465\n",
      "Epoch 26/100\n",
      "7108/7108 [==============================] - 9s 1ms/step - loss: 0.3236 - mse: 0.3236 - val_loss: 0.3476 - val_mse: 0.3476\n",
      "Epoch 27/100\n",
      "7108/7108 [==============================] - 8s 1ms/step - loss: 0.3114 - mse: 0.3114 - val_loss: 0.3458 - val_mse: 0.3458\n",
      "Epoch 28/100\n",
      "7108/7108 [==============================] - 11s 2ms/step - loss: 0.3158 - mse: 0.3158 - val_loss: 0.3431 - val_mse: 0.3431\n",
      "Epoch 29/100\n",
      "7108/7108 [==============================] - 10s 1ms/step - loss: 0.3159 - mse: 0.3159 - val_loss: 0.3485 - val_mse: 0.3485\n",
      "Epoch 30/100\n",
      "7108/7108 [==============================] - 10s 1ms/step - loss: 0.3101 - mse: 0.3101 - val_loss: 0.3437 - val_mse: 0.3437\n",
      "Epoch 31/100\n",
      "7108/7108 [==============================] - 12s 2ms/step - loss: 0.3139 - mse: 0.3139 - val_loss: 0.3467 - val_mse: 0.3467\n",
      "Epoch 32/100\n",
      "7108/7108 [==============================] - 9s 1ms/step - loss: 0.3125 - mse: 0.3125 - val_loss: 0.3479 - val_mse: 0.3479\n",
      "Epoch 33/100\n",
      "7108/7108 [==============================] - 9s 1ms/step - loss: 0.3186 - mse: 0.3186 - val_loss: 0.3436 - val_mse: 0.3436\n",
      "Epoch 00033: early stopping\n"
     ]
    }
   ],
   "source": [
    "hist = autoencoder.fit(train, train,\n",
    "                       epochs = 100,\n",
    "                       batch_size = 32,\n",
    "                       validation_data = (test, test),\n",
    "                       callbacks = [es])"
   ]
  },
  {
   "cell_type": "code",
   "execution_count": 18,
   "metadata": {
    "ExecuteTime": {
     "end_time": "2021-12-27T08:54:51.903770Z",
     "start_time": "2021-12-27T08:54:51.639309Z"
    }
   },
   "outputs": [
    {
     "data": {
      "image/png": "[encoded data removed]",
      "text/plain": [
       "<Figure size 720x432 with 1 Axes>"
      ]
     },
     "metadata": {
      "needs_background": "light"
     },
     "output_type": "display_data"
    }
   ],
   "source": [
    "plt.figure(figsize = (10,6))\n",
    "plt.plot(hist.history['loss'], color = 'green')\n",
    "plt.plot(hist.history['val_loss'], color = 'orange')\n",
    "plt.title('Loss')\n",
    "plt.ylabel('loss')\n",
    "plt.xlabel('epoch')\n",
    "plt.legend(['train', 'test'])\n",
    "plt.show()"
   ]
  },
  {
   "cell_type": "markdown",
   "metadata": {},
   "source": [
    "<br/>\n",
    "<br/>\n",
    "<br/>\n",
    "<br/>"
   ]
  },
  {
   "cell_type": "markdown",
   "metadata": {},
   "source": [
    "## Predict & get MSE"
   ]
  },
  {
   "cell_type": "code",
   "execution_count": 19,
   "metadata": {
    "ExecuteTime": {
     "end_time": "2021-12-27T08:54:53.427337Z",
     "start_time": "2021-12-27T08:54:51.903770Z"
    }
   },
   "outputs": [
    {
     "data": {
      "text/html": [
       "<div>\n",
       "<style scoped>\n",
       "    .dataframe tbody tr th:only-of-type {\n",
       "        vertical-align: middle;\n",
       "    }\n",
       "\n",
       "    .dataframe tbody tr th {\n",
       "        vertical-align: top;\n",
       "    }\n",
       "\n",
       "    .dataframe thead th {\n",
       "        text-align: right;\n",
       "    }\n",
       "</style>\n",
       "<table border=\"1\" class=\"dataframe\">\n",
       "  <thead>\n",
       "    <tr style=\"text-align: right;\">\n",
       "      <th></th>\n",
       "      <th>error</th>\n",
       "      <th>class</th>\n",
       "    </tr>\n",
       "  </thead>\n",
       "  <tbody>\n",
       "    <tr>\n",
       "      <th>43428</th>\n",
       "      <td>66.092341</td>\n",
       "      <td>1</td>\n",
       "    </tr>\n",
       "    <tr>\n",
       "      <th>49906</th>\n",
       "      <td>0.411464</td>\n",
       "      <td>0</td>\n",
       "    </tr>\n",
       "    <tr>\n",
       "      <th>29474</th>\n",
       "      <td>0.245525</td>\n",
       "      <td>0</td>\n",
       "    </tr>\n",
       "    <tr>\n",
       "      <th>276481</th>\n",
       "      <td>0.103767</td>\n",
       "      <td>0</td>\n",
       "    </tr>\n",
       "    <tr>\n",
       "      <th>278846</th>\n",
       "      <td>0.075973</td>\n",
       "      <td>0</td>\n",
       "    </tr>\n",
       "    <tr>\n",
       "      <th>101565</th>\n",
       "      <td>0.490777</td>\n",
       "      <td>0</td>\n",
       "    </tr>\n",
       "    <tr>\n",
       "      <th>260880</th>\n",
       "      <td>0.064451</td>\n",
       "      <td>0</td>\n",
       "    </tr>\n",
       "    <tr>\n",
       "      <th>214337</th>\n",
       "      <td>0.376418</td>\n",
       "      <td>0</td>\n",
       "    </tr>\n",
       "    <tr>\n",
       "      <th>201575</th>\n",
       "      <td>0.202428</td>\n",
       "      <td>0</td>\n",
       "    </tr>\n",
       "    <tr>\n",
       "      <th>81055</th>\n",
       "      <td>0.550634</td>\n",
       "      <td>0</td>\n",
       "    </tr>\n",
       "  </tbody>\n",
       "</table>\n",
       "</div>"
      ],
      "text/plain": [
       "            error  class\n",
       "43428   66.092341      1\n",
       "49906    0.411464      0\n",
       "29474    0.245525      0\n",
       "276481   0.103767      0\n",
       "278846   0.075973      0\n",
       "101565   0.490777      0\n",
       "260880   0.064451      0\n",
       "214337   0.376418      0\n",
       "201575   0.202428      0\n",
       "81055    0.550634      0"
      ]
     },
     "execution_count": 19,
     "metadata": {},
     "output_type": "execute_result"
    }
   ],
   "source": [
    "pred = autoencoder.predict(test)\n",
    "\n",
    "mse = np.mean(np.power(test - pred, 2), axis = 1)\n",
    "df_error = pd.DataFrame({\n",
    "    'error' : mse,\n",
    "    'class' : y_test\n",
    "})\n",
    "\n",
    "df_error.head(10)"
   ]
  },
  {
   "cell_type": "code",
   "execution_count": 20,
   "metadata": {
    "ExecuteTime": {
     "end_time": "2021-12-27T08:54:53.442925Z",
     "start_time": "2021-12-27T08:54:53.427337Z"
    }
   },
   "outputs": [],
   "source": [
    "df_error_normal = df_error[df_error['class'] == 0]\n",
    "df_error_fraud = df_error[df_error['class'] == 1]"
   ]
  },
  {
   "cell_type": "code",
   "execution_count": 21,
   "metadata": {
    "ExecuteTime": {
     "end_time": "2021-12-27T08:54:54.842151Z",
     "start_time": "2021-12-27T08:54:53.446148Z"
    }
   },
   "outputs": [
    {
     "data": {
      "image/png": "[encoded data removed]",
      "text/plain": [
       "<Figure size 720x432 with 1 Axes>"
      ]
     },
     "metadata": {
      "needs_background": "light"
     },
     "output_type": "display_data"
    }
   ],
   "source": [
    "plt.figure(figsize = (10,6))\n",
    "sns.histplot(data = df_error, x = 'error', hue = 'class', bins = 100)\n",
    "plt.title('Error')\n",
    "plt.yscale('log')\n",
    "plt.show()"
   ]
  },
  {
   "cell_type": "code",
   "execution_count": 22,
   "metadata": {
    "ExecuteTime": {
     "end_time": "2021-12-27T08:54:55.169163Z",
     "start_time": "2021-12-27T08:54:54.842151Z"
    }
   },
   "outputs": [
    {
     "data": {
      "image/png": "[encoded data removed]",
      "text/plain": [
       "<Figure size 720x432 with 1 Axes>"
      ]
     },
     "metadata": {
      "needs_background": "light"
     },
     "output_type": "display_data"
    }
   ],
   "source": [
    "from sklearn.metrics import roc_curve, auc\n",
    "fpr, tpr, threshold = roc_curve(df_error['class'], df_error['error'])\n",
    "roc_auc = auc(fpr, tpr)\n",
    "\n",
    "plt.figure(figsize = (10,6))\n",
    "plt.plot(fpr, tpr, c = 'red')\n",
    "plt.fill_between(fpr, 0, tpr, color = 'red', label = 'AUC = %.4f'%roc_auc, alpha = 0.2)\n",
    "plt.plot([0,1], [0,1], c = 'gray', linestyle = '--')\n",
    "plt.xlim([-0.01, 1])\n",
    "plt.ylim([0, 1.01])\n",
    "plt.ylabel('True Positive Rate')\n",
    "plt.xlabel('False Positive Rate')\n",
    "plt.title('Receiver Operating Characteristic')\n",
    "plt.legend()\n",
    "plt.show()"
   ]
  },
  {
   "cell_type": "markdown",
   "metadata": {},
   "source": [
    "<br/>\n",
    "<br/>\n",
    "<br/>\n",
    "<br/>"
   ]
  },
  {
   "cell_type": "markdown",
   "metadata": {},
   "source": [
    "## Set Threshold"
   ]
  },
  {
   "cell_type": "code",
   "execution_count": 23,
   "metadata": {
    "ExecuteTime": {
     "end_time": "2021-12-27T08:54:56.685397Z",
     "start_time": "2021-12-27T08:54:55.169163Z"
    }
   },
   "outputs": [
    {
     "data": {
      "image/png": "[encoded data removed]",
      "text/plain": [
       "<Figure size 720x432 with 1 Axes>"
      ]
     },
     "metadata": {
      "needs_background": "light"
     },
     "output_type": "display_data"
    }
   ],
   "source": [
    "threshold = 49\n",
    "\n",
    "plt.figure(figsize = (10,6))\n",
    "sns.histplot(data = df_error, x = 'error', hue = 'class', bins = 100)\n",
    "plt.axvline(threshold, color = 'red')\n",
    "plt.title('Error')\n",
    "plt.yscale('log')\n",
    "plt.show()"
   ]
  },
  {
   "cell_type": "code",
   "execution_count": 24,
   "metadata": {
    "ExecuteTime": {
     "end_time": "2021-12-27T08:54:56.740206Z",
     "start_time": "2021-12-27T08:54:56.685397Z"
    }
   },
   "outputs": [
    {
     "data": {
      "text/html": [
       "<div>\n",
       "<style scoped>\n",
       "    .dataframe tbody tr th:only-of-type {\n",
       "        vertical-align: middle;\n",
       "    }\n",
       "\n",
       "    .dataframe tbody tr th {\n",
       "        vertical-align: top;\n",
       "    }\n",
       "\n",
       "    .dataframe thead th {\n",
       "        text-align: right;\n",
       "    }\n",
       "</style>\n",
       "<table border=\"1\" class=\"dataframe\">\n",
       "  <thead>\n",
       "    <tr style=\"text-align: right;\">\n",
       "      <th></th>\n",
       "      <th>error</th>\n",
       "      <th>class</th>\n",
       "      <th>fraud</th>\n",
       "    </tr>\n",
       "  </thead>\n",
       "  <tbody>\n",
       "    <tr>\n",
       "      <th>43428</th>\n",
       "      <td>66.092341</td>\n",
       "      <td>1</td>\n",
       "      <td>1</td>\n",
       "    </tr>\n",
       "    <tr>\n",
       "      <th>49906</th>\n",
       "      <td>0.411464</td>\n",
       "      <td>0</td>\n",
       "      <td>0</td>\n",
       "    </tr>\n",
       "    <tr>\n",
       "      <th>29474</th>\n",
       "      <td>0.245525</td>\n",
       "      <td>0</td>\n",
       "      <td>0</td>\n",
       "    </tr>\n",
       "    <tr>\n",
       "      <th>276481</th>\n",
       "      <td>0.103767</td>\n",
       "      <td>0</td>\n",
       "      <td>0</td>\n",
       "    </tr>\n",
       "    <tr>\n",
       "      <th>278846</th>\n",
       "      <td>0.075973</td>\n",
       "      <td>0</td>\n",
       "      <td>0</td>\n",
       "    </tr>\n",
       "    <tr>\n",
       "      <th>101565</th>\n",
       "      <td>0.490777</td>\n",
       "      <td>0</td>\n",
       "      <td>0</td>\n",
       "    </tr>\n",
       "    <tr>\n",
       "      <th>260880</th>\n",
       "      <td>0.064451</td>\n",
       "      <td>0</td>\n",
       "      <td>0</td>\n",
       "    </tr>\n",
       "    <tr>\n",
       "      <th>214337</th>\n",
       "      <td>0.376418</td>\n",
       "      <td>0</td>\n",
       "      <td>0</td>\n",
       "    </tr>\n",
       "    <tr>\n",
       "      <th>201575</th>\n",
       "      <td>0.202428</td>\n",
       "      <td>0</td>\n",
       "      <td>0</td>\n",
       "    </tr>\n",
       "    <tr>\n",
       "      <th>81055</th>\n",
       "      <td>0.550634</td>\n",
       "      <td>0</td>\n",
       "      <td>0</td>\n",
       "    </tr>\n",
       "  </tbody>\n",
       "</table>\n",
       "</div>"
      ],
      "text/plain": [
       "            error  class  fraud\n",
       "43428   66.092341      1      1\n",
       "49906    0.411464      0      0\n",
       "29474    0.245525      0      0\n",
       "276481   0.103767      0      0\n",
       "278846   0.075973      0      0\n",
       "101565   0.490777      0      0\n",
       "260880   0.064451      0      0\n",
       "214337   0.376418      0      0\n",
       "201575   0.202428      0      0\n",
       "81055    0.550634      0      0"
      ]
     },
     "execution_count": 24,
     "metadata": {},
     "output_type": "execute_result"
    }
   ],
   "source": [
    "df_error['fraud'] = df_error['error'].apply(lambda e : 1 if e > threshold else 0)\n",
    "df_error.head(10)"
   ]
  },
  {
   "cell_type": "code",
   "execution_count": 25,
   "metadata": {
    "ExecuteTime": {
     "end_time": "2021-12-27T08:54:56.808168Z",
     "start_time": "2021-12-27T08:54:56.740206Z"
    }
   },
   "outputs": [
    {
     "name": "stdout",
     "output_type": "stream",
     "text": [
      "Accuracy score : 0.9986482216214319\n",
      "Recall score : 0.25510204081632654\n",
      "Precision score : 0.8620689655172413\n"
     ]
    }
   ],
   "source": [
    "from sklearn.metrics import accuracy_score, recall_score, precision_score\n",
    "\n",
    "print(f\"Accuracy score : {accuracy_score(df_error['class'], df_error['fraud'])}\")\n",
    "print(f\"Recall score : {recall_score(df_error['class'], df_error['fraud'])}\")\n",
    "print(f\"Precision score : {precision_score(df_error['class'], df_error['fraud'])}\")"
   ]
  },
  {
   "cell_type": "markdown",
   "metadata": {},
   "source": [
    "<br/>\n",
    "<br/>\n",
    "<br/>\n",
    "<br/>"
   ]
  },
  {
   "cell_type": "markdown",
   "metadata": {},
   "source": [
    "## Get data with a predicted value of 1"
   ]
  },
  {
   "cell_type": "code",
   "execution_count": 26,
   "metadata": {
    "ExecuteTime": {
     "end_time": "2021-12-27T08:54:56.843229Z",
     "start_time": "2021-12-27T08:54:56.808168Z"
    }
   },
   "outputs": [
    {
     "data": {
      "text/html": [
       "<div>\n",
       "<style scoped>\n",
       "    .dataframe tbody tr th:only-of-type {\n",
       "        vertical-align: middle;\n",
       "    }\n",
       "\n",
       "    .dataframe tbody tr th {\n",
       "        vertical-align: top;\n",
       "    }\n",
       "\n",
       "    .dataframe thead th {\n",
       "        text-align: right;\n",
       "    }\n",
       "</style>\n",
       "<table border=\"1\" class=\"dataframe\">\n",
       "  <thead>\n",
       "    <tr style=\"text-align: right;\">\n",
       "      <th></th>\n",
       "      <th>value_0</th>\n",
       "      <th>value_1</th>\n",
       "      <th>value_2</th>\n",
       "      <th>value_3</th>\n",
       "      <th>value_4</th>\n",
       "      <th>value_5</th>\n",
       "      <th>value_6</th>\n",
       "      <th>value_7</th>\n",
       "      <th>value_8</th>\n",
       "      <th>value_9</th>\n",
       "      <th>...</th>\n",
       "      <th>value_21</th>\n",
       "      <th>value_22</th>\n",
       "      <th>value_23</th>\n",
       "      <th>value_24</th>\n",
       "      <th>value_25</th>\n",
       "      <th>value_26</th>\n",
       "      <th>value_27</th>\n",
       "      <th>value_28</th>\n",
       "      <th>class</th>\n",
       "      <th>fraud</th>\n",
       "    </tr>\n",
       "  </thead>\n",
       "  <tbody>\n",
       "    <tr>\n",
       "      <th>0</th>\n",
       "      <td>-16.526507</td>\n",
       "      <td>8.584972</td>\n",
       "      <td>-18.649853</td>\n",
       "      <td>9.505594</td>\n",
       "      <td>-13.793819</td>\n",
       "      <td>-2.832404</td>\n",
       "      <td>-16.701694</td>\n",
       "      <td>7.517344</td>\n",
       "      <td>-8.507059</td>\n",
       "      <td>-14.110184</td>\n",
       "      <td>...</td>\n",
       "      <td>-1.127670</td>\n",
       "      <td>-2.358579</td>\n",
       "      <td>0.673461</td>\n",
       "      <td>-1.413700</td>\n",
       "      <td>-0.462762</td>\n",
       "      <td>-2.018575</td>\n",
       "      <td>-1.042804</td>\n",
       "      <td>1.102834</td>\n",
       "      <td>1.0</td>\n",
       "      <td>1.0</td>\n",
       "    </tr>\n",
       "    <tr>\n",
       "      <th>1</th>\n",
       "      <td>0.339812</td>\n",
       "      <td>-2.743745</td>\n",
       "      <td>-0.134070</td>\n",
       "      <td>-1.385729</td>\n",
       "      <td>-1.451413</td>\n",
       "      <td>1.015887</td>\n",
       "      <td>-0.524379</td>\n",
       "      <td>0.224060</td>\n",
       "      <td>0.899746</td>\n",
       "      <td>-0.565012</td>\n",
       "      <td>...</td>\n",
       "      <td>-0.942525</td>\n",
       "      <td>-0.526819</td>\n",
       "      <td>-1.156992</td>\n",
       "      <td>0.311211</td>\n",
       "      <td>-0.746647</td>\n",
       "      <td>0.040996</td>\n",
       "      <td>0.102038</td>\n",
       "      <td>1.726255</td>\n",
       "      <td>0.0</td>\n",
       "      <td>0.0</td>\n",
       "    </tr>\n",
       "    <tr>\n",
       "      <th>2</th>\n",
       "      <td>1.399590</td>\n",
       "      <td>-0.590701</td>\n",
       "      <td>0.168619</td>\n",
       "      <td>-1.029950</td>\n",
       "      <td>-0.539806</td>\n",
       "      <td>0.040444</td>\n",
       "      <td>-0.712567</td>\n",
       "      <td>0.002299</td>\n",
       "      <td>-0.971747</td>\n",
       "      <td>0.756801</td>\n",
       "      <td>...</td>\n",
       "      <td>0.168269</td>\n",
       "      <td>-0.166639</td>\n",
       "      <td>-0.810250</td>\n",
       "      <td>0.505083</td>\n",
       "      <td>-0.232340</td>\n",
       "      <td>0.011409</td>\n",
       "      <td>0.004634</td>\n",
       "      <td>-0.229289</td>\n",
       "      <td>0.0</td>\n",
       "      <td>0.0</td>\n",
       "    </tr>\n",
       "    <tr>\n",
       "      <th>3</th>\n",
       "      <td>-0.432071</td>\n",
       "      <td>1.647895</td>\n",
       "      <td>-1.669361</td>\n",
       "      <td>-0.349504</td>\n",
       "      <td>0.785785</td>\n",
       "      <td>-0.630647</td>\n",
       "      <td>0.276990</td>\n",
       "      <td>0.586025</td>\n",
       "      <td>-0.484715</td>\n",
       "      <td>-1.376648</td>\n",
       "      <td>...</td>\n",
       "      <td>0.873663</td>\n",
       "      <td>-0.178642</td>\n",
       "      <td>-0.017171</td>\n",
       "      <td>-0.207392</td>\n",
       "      <td>-0.157756</td>\n",
       "      <td>-0.237386</td>\n",
       "      <td>0.001934</td>\n",
       "      <td>-0.347232</td>\n",
       "      <td>0.0</td>\n",
       "      <td>0.0</td>\n",
       "    </tr>\n",
       "    <tr>\n",
       "      <th>4</th>\n",
       "      <td>2.014160</td>\n",
       "      <td>-0.137394</td>\n",
       "      <td>-1.015839</td>\n",
       "      <td>0.327269</td>\n",
       "      <td>-0.182179</td>\n",
       "      <td>-0.956571</td>\n",
       "      <td>0.043241</td>\n",
       "      <td>-0.160746</td>\n",
       "      <td>0.363241</td>\n",
       "      <td>0.259452</td>\n",
       "      <td>...</td>\n",
       "      <td>-0.616400</td>\n",
       "      <td>0.347045</td>\n",
       "      <td>0.061561</td>\n",
       "      <td>-0.360196</td>\n",
       "      <td>0.174730</td>\n",
       "      <td>-0.078043</td>\n",
       "      <td>-0.070571</td>\n",
       "      <td>-0.349671</td>\n",
       "      <td>0.0</td>\n",
       "      <td>0.0</td>\n",
       "    </tr>\n",
       "    <tr>\n",
       "      <th>5</th>\n",
       "      <td>-0.641330</td>\n",
       "      <td>-0.057304</td>\n",
       "      <td>1.489998</td>\n",
       "      <td>-1.688131</td>\n",
       "      <td>-1.151043</td>\n",
       "      <td>0.259996</td>\n",
       "      <td>-1.391069</td>\n",
       "      <td>-2.334075</td>\n",
       "      <td>1.168644</td>\n",
       "      <td>-2.084080</td>\n",
       "      <td>...</td>\n",
       "      <td>0.257164</td>\n",
       "      <td>-0.371953</td>\n",
       "      <td>-0.038566</td>\n",
       "      <td>1.397514</td>\n",
       "      <td>-0.665947</td>\n",
       "      <td>0.031003</td>\n",
       "      <td>0.180357</td>\n",
       "      <td>0.046579</td>\n",
       "      <td>0.0</td>\n",
       "      <td>0.0</td>\n",
       "    </tr>\n",
       "    <tr>\n",
       "      <th>6</th>\n",
       "      <td>2.023952</td>\n",
       "      <td>-0.120140</td>\n",
       "      <td>-1.086918</td>\n",
       "      <td>0.423019</td>\n",
       "      <td>-0.142901</td>\n",
       "      <td>-1.127752</td>\n",
       "      <td>0.178493</td>\n",
       "      <td>-0.303234</td>\n",
       "      <td>0.564509</td>\n",
       "      <td>0.062831</td>\n",
       "      <td>...</td>\n",
       "      <td>-0.697708</td>\n",
       "      <td>0.335631</td>\n",
       "      <td>-0.017196</td>\n",
       "      <td>-0.324904</td>\n",
       "      <td>0.200023</td>\n",
       "      <td>-0.071566</td>\n",
       "      <td>-0.058224</td>\n",
       "      <td>-0.285302</td>\n",
       "      <td>0.0</td>\n",
       "      <td>0.0</td>\n",
       "    </tr>\n",
       "    <tr>\n",
       "      <th>7</th>\n",
       "      <td>-0.688944</td>\n",
       "      <td>1.292153</td>\n",
       "      <td>-0.564281</td>\n",
       "      <td>-1.457526</td>\n",
       "      <td>2.258333</td>\n",
       "      <td>-0.323270</td>\n",
       "      <td>1.678984</td>\n",
       "      <td>-0.104128</td>\n",
       "      <td>-1.285351</td>\n",
       "      <td>-1.303435</td>\n",
       "      <td>...</td>\n",
       "      <td>-0.171568</td>\n",
       "      <td>-0.720019</td>\n",
       "      <td>-0.419435</td>\n",
       "      <td>1.211991</td>\n",
       "      <td>0.670916</td>\n",
       "      <td>-0.103986</td>\n",
       "      <td>0.030084</td>\n",
       "      <td>-0.317447</td>\n",
       "      <td>0.0</td>\n",
       "      <td>0.0</td>\n",
       "    </tr>\n",
       "    <tr>\n",
       "      <th>8</th>\n",
       "      <td>2.119362</td>\n",
       "      <td>0.142639</td>\n",
       "      <td>-2.373337</td>\n",
       "      <td>0.541949</td>\n",
       "      <td>0.608419</td>\n",
       "      <td>-1.775564</td>\n",
       "      <td>0.955775</td>\n",
       "      <td>-0.599383</td>\n",
       "      <td>0.010420</td>\n",
       "      <td>0.295305</td>\n",
       "      <td>...</td>\n",
       "      <td>0.898266</td>\n",
       "      <td>-0.168063</td>\n",
       "      <td>0.059311</td>\n",
       "      <td>0.626949</td>\n",
       "      <td>0.729035</td>\n",
       "      <td>-0.129120</td>\n",
       "      <td>-0.094713</td>\n",
       "      <td>-0.313249</td>\n",
       "      <td>0.0</td>\n",
       "      <td>0.0</td>\n",
       "    </tr>\n",
       "    <tr>\n",
       "      <th>9</th>\n",
       "      <td>-5.584256</td>\n",
       "      <td>-4.732413</td>\n",
       "      <td>-0.448452</td>\n",
       "      <td>-0.121442</td>\n",
       "      <td>-0.707412</td>\n",
       "      <td>-0.114376</td>\n",
       "      <td>-1.554628</td>\n",
       "      <td>1.402126</td>\n",
       "      <td>-0.031693</td>\n",
       "      <td>-0.942358</td>\n",
       "      <td>...</td>\n",
       "      <td>0.621789</td>\n",
       "      <td>0.223467</td>\n",
       "      <td>-0.770137</td>\n",
       "      <td>0.621182</td>\n",
       "      <td>-0.028738</td>\n",
       "      <td>0.505194</td>\n",
       "      <td>-1.898323</td>\n",
       "      <td>0.052536</td>\n",
       "      <td>0.0</td>\n",
       "      <td>0.0</td>\n",
       "    </tr>\n",
       "  </tbody>\n",
       "</table>\n",
       "<p>10 rows × 31 columns</p>\n",
       "</div>"
      ],
      "text/plain": [
       "     value_0   value_1    value_2   value_3    value_4   value_5    value_6  \\\n",
       "0 -16.526507  8.584972 -18.649853  9.505594 -13.793819 -2.832404 -16.701694   \n",
       "1   0.339812 -2.743745  -0.134070 -1.385729  -1.451413  1.015887  -0.524379   \n",
       "2   1.399590 -0.590701   0.168619 -1.029950  -0.539806  0.040444  -0.712567   \n",
       "3  -0.432071  1.647895  -1.669361 -0.349504   0.785785 -0.630647   0.276990   \n",
       "4   2.014160 -0.137394  -1.015839  0.327269  -0.182179 -0.956571   0.043241   \n",
       "5  -0.641330 -0.057304   1.489998 -1.688131  -1.151043  0.259996  -1.391069   \n",
       "6   2.023952 -0.120140  -1.086918  0.423019  -0.142901 -1.127752   0.178493   \n",
       "7  -0.688944  1.292153  -0.564281 -1.457526   2.258333 -0.323270   1.678984   \n",
       "8   2.119362  0.142639  -2.373337  0.541949   0.608419 -1.775564   0.955775   \n",
       "9  -5.584256 -4.732413  -0.448452 -0.121442  -0.707412 -0.114376  -1.554628   \n",
       "\n",
       "    value_7   value_8    value_9  ...  value_21  value_22  value_23  value_24  \\\n",
       "0  7.517344 -8.507059 -14.110184  ... -1.127670 -2.358579  0.673461 -1.413700   \n",
       "1  0.224060  0.899746  -0.565012  ... -0.942525 -0.526819 -1.156992  0.311211   \n",
       "2  0.002299 -0.971747   0.756801  ...  0.168269 -0.166639 -0.810250  0.505083   \n",
       "3  0.586025 -0.484715  -1.376648  ...  0.873663 -0.178642 -0.017171 -0.207392   \n",
       "4 -0.160746  0.363241   0.259452  ... -0.616400  0.347045  0.061561 -0.360196   \n",
       "5 -2.334075  1.168644  -2.084080  ...  0.257164 -0.371953 -0.038566  1.397514   \n",
       "6 -0.303234  0.564509   0.062831  ... -0.697708  0.335631 -0.017196 -0.324904   \n",
       "7 -0.104128 -1.285351  -1.303435  ... -0.171568 -0.720019 -0.419435  1.211991   \n",
       "8 -0.599383  0.010420   0.295305  ...  0.898266 -0.168063  0.059311  0.626949   \n",
       "9  1.402126 -0.031693  -0.942358  ...  0.621789  0.223467 -0.770137  0.621182   \n",
       "\n",
       "   value_25  value_26  value_27  value_28  class  fraud  \n",
       "0 -0.462762 -2.018575 -1.042804  1.102834    1.0    1.0  \n",
       "1 -0.746647  0.040996  0.102038  1.726255    0.0    0.0  \n",
       "2 -0.232340  0.011409  0.004634 -0.229289    0.0    0.0  \n",
       "3 -0.157756 -0.237386  0.001934 -0.347232    0.0    0.0  \n",
       "4  0.174730 -0.078043 -0.070571 -0.349671    0.0    0.0  \n",
       "5 -0.665947  0.031003  0.180357  0.046579    0.0    0.0  \n",
       "6  0.200023 -0.071566 -0.058224 -0.285302    0.0    0.0  \n",
       "7  0.670916 -0.103986  0.030084 -0.317447    0.0    0.0  \n",
       "8  0.729035 -0.129120 -0.094713 -0.313249    0.0    0.0  \n",
       "9 -0.028738  0.505194 -1.898323  0.052536    0.0    0.0  \n",
       "\n",
       "[10 rows x 31 columns]"
      ]
     },
     "execution_count": 26,
     "metadata": {},
     "output_type": "execute_result"
    }
   ],
   "source": [
    "result = np.hstack([test, y_test.values.reshape(-1,1), df_error['fraud'].values.reshape(-1,1)])\n",
    "result = pd.DataFrame(result, columns = [f'value_{i}' for i in range(test.shape[1])] + ['class', 'fraud'])\n",
    "result.head(10)"
   ]
  },
  {
   "cell_type": "code",
   "execution_count": 27,
   "metadata": {
    "ExecuteTime": {
     "end_time": "2021-12-27T08:54:56.875289Z",
     "start_time": "2021-12-27T08:54:56.843229Z"
    }
   },
   "outputs": [
    {
     "data": {
      "text/html": [
       "<div>\n",
       "<style scoped>\n",
       "    .dataframe tbody tr th:only-of-type {\n",
       "        vertical-align: middle;\n",
       "    }\n",
       "\n",
       "    .dataframe tbody tr th {\n",
       "        vertical-align: top;\n",
       "    }\n",
       "\n",
       "    .dataframe thead th {\n",
       "        text-align: right;\n",
       "    }\n",
       "</style>\n",
       "<table border=\"1\" class=\"dataframe\">\n",
       "  <thead>\n",
       "    <tr style=\"text-align: right;\">\n",
       "      <th></th>\n",
       "      <th>value_0</th>\n",
       "      <th>value_1</th>\n",
       "      <th>value_2</th>\n",
       "      <th>value_3</th>\n",
       "      <th>value_4</th>\n",
       "      <th>value_5</th>\n",
       "      <th>value_6</th>\n",
       "      <th>value_7</th>\n",
       "      <th>value_8</th>\n",
       "      <th>value_9</th>\n",
       "      <th>...</th>\n",
       "      <th>value_21</th>\n",
       "      <th>value_22</th>\n",
       "      <th>value_23</th>\n",
       "      <th>value_24</th>\n",
       "      <th>value_25</th>\n",
       "      <th>value_26</th>\n",
       "      <th>value_27</th>\n",
       "      <th>value_28</th>\n",
       "      <th>class</th>\n",
       "      <th>fraud</th>\n",
       "    </tr>\n",
       "  </thead>\n",
       "  <tbody>\n",
       "    <tr>\n",
       "      <th>0</th>\n",
       "      <td>-16.526507</td>\n",
       "      <td>8.584972</td>\n",
       "      <td>-18.649853</td>\n",
       "      <td>9.505594</td>\n",
       "      <td>-13.793819</td>\n",
       "      <td>-2.832404</td>\n",
       "      <td>-16.701694</td>\n",
       "      <td>7.517344</td>\n",
       "      <td>-8.507059</td>\n",
       "      <td>-14.110184</td>\n",
       "      <td>...</td>\n",
       "      <td>-1.127670</td>\n",
       "      <td>-2.358579</td>\n",
       "      <td>0.673461</td>\n",
       "      <td>-1.413700</td>\n",
       "      <td>-0.462762</td>\n",
       "      <td>-2.018575</td>\n",
       "      <td>-1.042804</td>\n",
       "      <td>1.102834</td>\n",
       "      <td>1.0</td>\n",
       "      <td>1.0</td>\n",
       "    </tr>\n",
       "    <tr>\n",
       "      <th>5100</th>\n",
       "      <td>-25.942434</td>\n",
       "      <td>14.601998</td>\n",
       "      <td>-27.368650</td>\n",
       "      <td>6.378395</td>\n",
       "      <td>-19.104033</td>\n",
       "      <td>-4.684806</td>\n",
       "      <td>-18.261393</td>\n",
       "      <td>17.052566</td>\n",
       "      <td>-3.742605</td>\n",
       "      <td>-8.233721</td>\n",
       "      <td>...</td>\n",
       "      <td>-1.917759</td>\n",
       "      <td>-1.235787</td>\n",
       "      <td>0.161105</td>\n",
       "      <td>1.820378</td>\n",
       "      <td>-0.219359</td>\n",
       "      <td>1.388786</td>\n",
       "      <td>0.406810</td>\n",
       "      <td>0.046539</td>\n",
       "      <td>1.0</td>\n",
       "      <td>1.0</td>\n",
       "    </tr>\n",
       "    <tr>\n",
       "      <th>10634</th>\n",
       "      <td>-20.906908</td>\n",
       "      <td>9.843153</td>\n",
       "      <td>-19.947726</td>\n",
       "      <td>6.155789</td>\n",
       "      <td>-15.142013</td>\n",
       "      <td>-2.239566</td>\n",
       "      <td>-21.234463</td>\n",
       "      <td>1.151795</td>\n",
       "      <td>-8.739670</td>\n",
       "      <td>-18.271168</td>\n",
       "      <td>...</td>\n",
       "      <td>0.652932</td>\n",
       "      <td>-0.519777</td>\n",
       "      <td>0.541702</td>\n",
       "      <td>-0.053861</td>\n",
       "      <td>0.112671</td>\n",
       "      <td>-3.765371</td>\n",
       "      <td>-1.071238</td>\n",
       "      <td>-0.349231</td>\n",
       "      <td>1.0</td>\n",
       "      <td>1.0</td>\n",
       "    </tr>\n",
       "    <tr>\n",
       "      <th>11066</th>\n",
       "      <td>-13.192671</td>\n",
       "      <td>12.785971</td>\n",
       "      <td>-9.906650</td>\n",
       "      <td>3.320337</td>\n",
       "      <td>-4.801176</td>\n",
       "      <td>5.760059</td>\n",
       "      <td>-18.750889</td>\n",
       "      <td>-37.353443</td>\n",
       "      <td>-0.391540</td>\n",
       "      <td>-5.052502</td>\n",
       "      <td>...</td>\n",
       "      <td>-8.887017</td>\n",
       "      <td>5.303607</td>\n",
       "      <td>-0.639435</td>\n",
       "      <td>0.263203</td>\n",
       "      <td>-0.108877</td>\n",
       "      <td>1.269566</td>\n",
       "      <td>0.939407</td>\n",
       "      <td>-0.349231</td>\n",
       "      <td>1.0</td>\n",
       "      <td>1.0</td>\n",
       "    </tr>\n",
       "    <tr>\n",
       "      <th>13312</th>\n",
       "      <td>-3.432602</td>\n",
       "      <td>-3.110123</td>\n",
       "      <td>9.382558</td>\n",
       "      <td>-1.218808</td>\n",
       "      <td>7.515238</td>\n",
       "      <td>3.399540</td>\n",
       "      <td>15.661716</td>\n",
       "      <td>-18.958017</td>\n",
       "      <td>15.594995</td>\n",
       "      <td>23.745136</td>\n",
       "      <td>...</td>\n",
       "      <td>2.766917</td>\n",
       "      <td>-2.971359</td>\n",
       "      <td>0.539097</td>\n",
       "      <td>-3.963454</td>\n",
       "      <td>-2.068561</td>\n",
       "      <td>-22.565679</td>\n",
       "      <td>-11.710896</td>\n",
       "      <td>0.619345</td>\n",
       "      <td>0.0</td>\n",
       "      <td>1.0</td>\n",
       "    </tr>\n",
       "    <tr>\n",
       "      <th>16473</th>\n",
       "      <td>-7.334341</td>\n",
       "      <td>4.960892</td>\n",
       "      <td>-8.451410</td>\n",
       "      <td>8.174825</td>\n",
       "      <td>-7.237464</td>\n",
       "      <td>-2.382711</td>\n",
       "      <td>-11.508842</td>\n",
       "      <td>4.635798</td>\n",
       "      <td>-6.557760</td>\n",
       "      <td>-11.519861</td>\n",
       "      <td>...</td>\n",
       "      <td>0.033922</td>\n",
       "      <td>-0.014095</td>\n",
       "      <td>0.625250</td>\n",
       "      <td>-0.053390</td>\n",
       "      <td>0.164709</td>\n",
       "      <td>1.411047</td>\n",
       "      <td>0.315645</td>\n",
       "      <td>-0.307731</td>\n",
       "      <td>1.0</td>\n",
       "      <td>1.0</td>\n",
       "    </tr>\n",
       "    <tr>\n",
       "      <th>16564</th>\n",
       "      <td>-12.381048</td>\n",
       "      <td>8.213022</td>\n",
       "      <td>-16.962530</td>\n",
       "      <td>7.116091</td>\n",
       "      <td>-9.772826</td>\n",
       "      <td>-3.666836</td>\n",
       "      <td>-16.147363</td>\n",
       "      <td>2.078706</td>\n",
       "      <td>-4.250657</td>\n",
       "      <td>-16.746044</td>\n",
       "      <td>...</td>\n",
       "      <td>1.503413</td>\n",
       "      <td>-0.767755</td>\n",
       "      <td>0.371951</td>\n",
       "      <td>-1.415639</td>\n",
       "      <td>-0.517022</td>\n",
       "      <td>-0.434621</td>\n",
       "      <td>0.292721</td>\n",
       "      <td>0.034585</td>\n",
       "      <td>1.0</td>\n",
       "      <td>1.0</td>\n",
       "    </tr>\n",
       "    <tr>\n",
       "      <th>16592</th>\n",
       "      <td>-26.457745</td>\n",
       "      <td>16.497472</td>\n",
       "      <td>-30.177317</td>\n",
       "      <td>8.904157</td>\n",
       "      <td>-17.892600</td>\n",
       "      <td>-1.227904</td>\n",
       "      <td>-31.197329</td>\n",
       "      <td>-11.438920</td>\n",
       "      <td>-9.462573</td>\n",
       "      <td>-22.187089</td>\n",
       "      <td>...</td>\n",
       "      <td>3.460893</td>\n",
       "      <td>0.896538</td>\n",
       "      <td>0.254836</td>\n",
       "      <td>-0.738097</td>\n",
       "      <td>-0.966564</td>\n",
       "      <td>-7.263482</td>\n",
       "      <td>-1.324884</td>\n",
       "      <td>-0.349231</td>\n",
       "      <td>1.0</td>\n",
       "      <td>1.0</td>\n",
       "    </tr>\n",
       "    <tr>\n",
       "      <th>18544</th>\n",
       "      <td>-15.020981</td>\n",
       "      <td>8.075240</td>\n",
       "      <td>-16.298091</td>\n",
       "      <td>5.664820</td>\n",
       "      <td>-11.918153</td>\n",
       "      <td>-4.246957</td>\n",
       "      <td>-14.716668</td>\n",
       "      <td>9.435084</td>\n",
       "      <td>-6.795398</td>\n",
       "      <td>-15.124163</td>\n",
       "      <td>...</td>\n",
       "      <td>-0.832074</td>\n",
       "      <td>-0.186117</td>\n",
       "      <td>0.429781</td>\n",
       "      <td>0.697103</td>\n",
       "      <td>0.056031</td>\n",
       "      <td>-1.310888</td>\n",
       "      <td>-0.707403</td>\n",
       "      <td>-0.216815</td>\n",
       "      <td>1.0</td>\n",
       "      <td>1.0</td>\n",
       "    </tr>\n",
       "    <tr>\n",
       "      <th>19281</th>\n",
       "      <td>-10.940739</td>\n",
       "      <td>6.261586</td>\n",
       "      <td>-14.182339</td>\n",
       "      <td>7.183602</td>\n",
       "      <td>-9.951363</td>\n",
       "      <td>-3.860820</td>\n",
       "      <td>-13.547302</td>\n",
       "      <td>7.096472</td>\n",
       "      <td>-6.294029</td>\n",
       "      <td>-13.608143</td>\n",
       "      <td>...</td>\n",
       "      <td>-0.492029</td>\n",
       "      <td>-0.239303</td>\n",
       "      <td>0.454368</td>\n",
       "      <td>-0.101611</td>\n",
       "      <td>0.446997</td>\n",
       "      <td>0.062293</td>\n",
       "      <td>-0.439770</td>\n",
       "      <td>-0.171356</td>\n",
       "      <td>1.0</td>\n",
       "      <td>1.0</td>\n",
       "    </tr>\n",
       "  </tbody>\n",
       "</table>\n",
       "<p>10 rows × 31 columns</p>\n",
       "</div>"
      ],
      "text/plain": [
       "         value_0    value_1    value_2   value_3    value_4   value_5  \\\n",
       "0     -16.526507   8.584972 -18.649853  9.505594 -13.793819 -2.832404   \n",
       "5100  -25.942434  14.601998 -27.368650  6.378395 -19.104033 -4.684806   \n",
       "10634 -20.906908   9.843153 -19.947726  6.155789 -15.142013 -2.239566   \n",
       "11066 -13.192671  12.785971  -9.906650  3.320337  -4.801176  5.760059   \n",
       "13312  -3.432602  -3.110123   9.382558 -1.218808   7.515238  3.399540   \n",
       "16473  -7.334341   4.960892  -8.451410  8.174825  -7.237464 -2.382711   \n",
       "16564 -12.381048   8.213022 -16.962530  7.116091  -9.772826 -3.666836   \n",
       "16592 -26.457745  16.497472 -30.177317  8.904157 -17.892600 -1.227904   \n",
       "18544 -15.020981   8.075240 -16.298091  5.664820 -11.918153 -4.246957   \n",
       "19281 -10.940739   6.261586 -14.182339  7.183602  -9.951363 -3.860820   \n",
       "\n",
       "         value_6    value_7    value_8    value_9  ...  value_21  value_22  \\\n",
       "0     -16.701694   7.517344  -8.507059 -14.110184  ... -1.127670 -2.358579   \n",
       "5100  -18.261393  17.052566  -3.742605  -8.233721  ... -1.917759 -1.235787   \n",
       "10634 -21.234463   1.151795  -8.739670 -18.271168  ...  0.652932 -0.519777   \n",
       "11066 -18.750889 -37.353443  -0.391540  -5.052502  ... -8.887017  5.303607   \n",
       "13312  15.661716 -18.958017  15.594995  23.745136  ...  2.766917 -2.971359   \n",
       "16473 -11.508842   4.635798  -6.557760 -11.519861  ...  0.033922 -0.014095   \n",
       "16564 -16.147363   2.078706  -4.250657 -16.746044  ...  1.503413 -0.767755   \n",
       "16592 -31.197329 -11.438920  -9.462573 -22.187089  ...  3.460893  0.896538   \n",
       "18544 -14.716668   9.435084  -6.795398 -15.124163  ... -0.832074 -0.186117   \n",
       "19281 -13.547302   7.096472  -6.294029 -13.608143  ... -0.492029 -0.239303   \n",
       "\n",
       "       value_23  value_24  value_25   value_26   value_27  value_28  class  \\\n",
       "0      0.673461 -1.413700 -0.462762  -2.018575  -1.042804  1.102834    1.0   \n",
       "5100   0.161105  1.820378 -0.219359   1.388786   0.406810  0.046539    1.0   \n",
       "10634  0.541702 -0.053861  0.112671  -3.765371  -1.071238 -0.349231    1.0   \n",
       "11066 -0.639435  0.263203 -0.108877   1.269566   0.939407 -0.349231    1.0   \n",
       "13312  0.539097 -3.963454 -2.068561 -22.565679 -11.710896  0.619345    0.0   \n",
       "16473  0.625250 -0.053390  0.164709   1.411047   0.315645 -0.307731    1.0   \n",
       "16564  0.371951 -1.415639 -0.517022  -0.434621   0.292721  0.034585    1.0   \n",
       "16592  0.254836 -0.738097 -0.966564  -7.263482  -1.324884 -0.349231    1.0   \n",
       "18544  0.429781  0.697103  0.056031  -1.310888  -0.707403 -0.216815    1.0   \n",
       "19281  0.454368 -0.101611  0.446997   0.062293  -0.439770 -0.171356    1.0   \n",
       "\n",
       "       fraud  \n",
       "0        1.0  \n",
       "5100     1.0  \n",
       "10634    1.0  \n",
       "11066    1.0  \n",
       "13312    1.0  \n",
       "16473    1.0  \n",
       "16564    1.0  \n",
       "16592    1.0  \n",
       "18544    1.0  \n",
       "19281    1.0  \n",
       "\n",
       "[10 rows x 31 columns]"
      ]
     },
     "execution_count": 27,
     "metadata": {},
     "output_type": "execute_result"
    }
   ],
   "source": [
    "result[result['fraud'] == 1].head(10)"
   ]
  },
  {
   "cell_type": "markdown",
   "metadata": {},
   "source": [
    "<br/>\n",
    "<br/>\n",
    "<br/>\n",
    "<br/>"
   ]
  },
  {
   "cell_type": "markdown",
   "metadata": {},
   "source": [
    "- Reference\n",
    "    - https://github.com/curiousily/Credit-Card-Fraud-Detection-using-Autoencoders-in-Keras/blob/master/fraud_detection.ipynb"
   ]
  }
 ],
 "metadata": {
  "kernelspec": {
   "display_name": "Python 3",
   "language": "python",
   "name": "python3"
  },
  "language_info": {
   "codemirror_mode": {
    "name": "ipython",
    "version": 3
   },
   "file_extension": ".py",
   "mimetype": "text/x-python",
   "name": "python",
   "nbconvert_exporter": "python",
   "pygments_lexer": "ipython3",
   "version": "3.8.5"
  },
  "toc": {
   "base_numbering": 1,
   "nav_menu": {},
   "number_sections": true,
   "sideBar": true,
   "skip_h1_title": false,
   "title_cell": "Table of Contents",
   "title_sidebar": "Contents",
   "toc_cell": false,
   "toc_position": {},
   "toc_section_display": true,
   "toc_window_display": false
  },
  "varInspector": {
   "cols": {
    "lenName": 16,
    "lenType": 16,
    "lenVar": 40
   },
   "kernels_config": {
    "python": {
     "delete_cmd_postfix": "",
     "delete_cmd_prefix": "del ",
     "library": "var_list.py",
     "varRefreshCmd": "print(var_dic_list())"
    },
    "r": {
     "delete_cmd_postfix": ") ",
     "delete_cmd_prefix": "rm(",
     "library": "var_list.r",
     "varRefreshCmd": "cat(var_dic_list()) "
    }
   },
   "types_to_exclude": [
    "module",
    "function",
    "builtin_function_or_method",
    "instance",
    "_Feature"
   ],
   "window_display": false
  }
 },
 "nbformat": 4,
 "nbformat_minor": 4
}

{
 "cells": [
  {
   "cell_type": "markdown",
   "metadata": {},
   "source": [
    "# Gower's distance\n",
    "> 범주형 데이터가 섞여 있을 때 사용"
   ]
  },
  {
   "cell_type": "markdown",
   "metadata": {},
   "source": [
    "<br/>\n",
    "<br/>"
   ]
  },
  {
   "cell_type": "markdown",
   "metadata": {},
   "source": [
    "## Definition"
   ]
  },
  {
   "cell_type": "markdown",
   "metadata": {},
   "source": [
    "$Suppose\\; X = (c_1, c_2, z_1)\\;where\\; c_1,c_2\\; are\\, continuous\\, and\\, z_1\\, is\\, categorical.\\\\Let\\, two\\, points\\; X_i = (c_1^i, c_2^i, z_1^i)\\; and\\; X_j = (c_1^j, c_2^j, z_1^j).\\\\Then\\, Gower's\\, distance\\, of\\, these\\, points\\, is$"
   ]
  },
  {
   "cell_type": "markdown",
   "metadata": {},
   "source": [
    "$$\\begin{aligned}Gower(X_i,X_j )&=mean(D(c_1^i,c_1^j ),D(c_2^i,c_2^j ),D(z_1^i,z_1^j ),D(z_2^i,z_2^j ))\\\\&=mean(\\frac{|c_1^i-c_1^j |}{max⁡(c_1 )-min⁡(c_1 )}, \\frac{|c_2^i-c_2^j |}{max⁡(c_2 )-min⁡(c_2 )}, D(z_1^i,z_1^j ))\\end{aligned}\\\\where\\; D(z_1^i,z_1^j ) = 0\\; if\\; z_1^i = z_1^j\\; else\\; 1$$"
   ]
  },
  {
   "cell_type": "markdown",
   "metadata": {},
   "source": [
    "<br/>\n",
    "<br/>"
   ]
  },
  {
   "cell_type": "code",
   "execution_count": 1,
   "metadata": {
    "ExecuteTime": {
     "end_time": "2021-10-24T07:47:25.813155Z",
     "start_time": "2021-10-24T07:47:23.606213Z"
    }
   },
   "outputs": [
    {
     "data": {
      "text/html": [
       "<style>.container {width : 100% !important}</style>"
      ],
      "text/plain": [
       "<IPython.core.display.HTML object>"
      ]
     },
     "metadata": {},
     "output_type": "display_data"
    }
   ],
   "source": [
    "import numpy as np\n",
    "import pandas as pd\n",
    "import matplotlib.pyplot as plt\n",
    "import seaborn as sns\n",
    "\n",
    "from IPython.core.display import display, HTML\n",
    "display(HTML('<style>.container {width : 100% !important}</style>'))"
   ]
  },
  {
   "cell_type": "markdown",
   "metadata": {},
   "source": [
    "<br/>\n",
    "<br/>"
   ]
  },
  {
   "cell_type": "markdown",
   "metadata": {},
   "source": [
    "## Data\n",
    "- A, B : continuous\n",
    "- C : categorical"
   ]
  },
  {
   "cell_type": "code",
   "execution_count": 2,
   "metadata": {
    "ExecuteTime": {
     "end_time": "2021-10-24T07:47:25.881859Z",
     "start_time": "2021-10-24T07:47:25.813155Z"
    }
   },
   "outputs": [
    {
     "data": {
      "text/html": [
       "<div>\n",
       "<style scoped>\n",
       "    .dataframe tbody tr th:only-of-type {\n",
       "        vertical-align: middle;\n",
       "    }\n",
       "\n",
       "    .dataframe tbody tr th {\n",
       "        vertical-align: top;\n",
       "    }\n",
       "\n",
       "    .dataframe thead th {\n",
       "        text-align: right;\n",
       "    }\n",
       "</style>\n",
       "<table border=\"1\" class=\"dataframe\">\n",
       "  <thead>\n",
       "    <tr style=\"text-align: right;\">\n",
       "      <th></th>\n",
       "      <th>A</th>\n",
       "      <th>B</th>\n",
       "      <th>C</th>\n",
       "    </tr>\n",
       "  </thead>\n",
       "  <tbody>\n",
       "    <tr>\n",
       "      <th>0</th>\n",
       "      <td>0.496714</td>\n",
       "      <td>-0.138264</td>\n",
       "      <td>2</td>\n",
       "    </tr>\n",
       "    <tr>\n",
       "      <th>1</th>\n",
       "      <td>0.647689</td>\n",
       "      <td>1.523030</td>\n",
       "      <td>6</td>\n",
       "    </tr>\n",
       "    <tr>\n",
       "      <th>2</th>\n",
       "      <td>-0.234153</td>\n",
       "      <td>-0.234137</td>\n",
       "      <td>3</td>\n",
       "    </tr>\n",
       "    <tr>\n",
       "      <th>3</th>\n",
       "      <td>1.579213</td>\n",
       "      <td>0.767435</td>\n",
       "      <td>8</td>\n",
       "    </tr>\n",
       "    <tr>\n",
       "      <th>4</th>\n",
       "      <td>-0.469474</td>\n",
       "      <td>0.542560</td>\n",
       "      <td>2</td>\n",
       "    </tr>\n",
       "    <tr>\n",
       "      <th>5</th>\n",
       "      <td>-0.463418</td>\n",
       "      <td>-0.465730</td>\n",
       "      <td>4</td>\n",
       "    </tr>\n",
       "    <tr>\n",
       "      <th>6</th>\n",
       "      <td>0.241962</td>\n",
       "      <td>-1.913280</td>\n",
       "      <td>2</td>\n",
       "    </tr>\n",
       "    <tr>\n",
       "      <th>7</th>\n",
       "      <td>-1.724918</td>\n",
       "      <td>-0.562288</td>\n",
       "      <td>6</td>\n",
       "    </tr>\n",
       "    <tr>\n",
       "      <th>8</th>\n",
       "      <td>-1.012831</td>\n",
       "      <td>0.314247</td>\n",
       "      <td>4</td>\n",
       "    </tr>\n",
       "    <tr>\n",
       "      <th>9</th>\n",
       "      <td>-0.908024</td>\n",
       "      <td>-1.412304</td>\n",
       "      <td>8</td>\n",
       "    </tr>\n",
       "  </tbody>\n",
       "</table>\n",
       "</div>"
      ],
      "text/plain": [
       "          A         B  C\n",
       "0  0.496714 -0.138264  2\n",
       "1  0.647689  1.523030  6\n",
       "2 -0.234153 -0.234137  3\n",
       "3  1.579213  0.767435  8\n",
       "4 -0.469474  0.542560  2\n",
       "5 -0.463418 -0.465730  4\n",
       "6  0.241962 -1.913280  2\n",
       "7 -1.724918 -0.562288  6\n",
       "8 -1.012831  0.314247  4\n",
       "9 -0.908024 -1.412304  8"
      ]
     },
     "execution_count": 2,
     "metadata": {},
     "output_type": "execute_result"
    }
   ],
   "source": [
    "np.random.seed(42)\n",
    "\n",
    "X = pd.DataFrame(np.random.randn(10, 2), columns = list('AB'))\n",
    "X['C'] = np.random.choice(range(10), 10)\n",
    "X['C'] = X['C'].astype(str)\n",
    "\n",
    "X"
   ]
  },
  {
   "cell_type": "markdown",
   "metadata": {},
   "source": [
    "<br/>\n",
    "<br/>\n",
    "<br/>\n",
    "<br/>"
   ]
  },
  {
   "cell_type": "markdown",
   "metadata": {},
   "source": [
    "## Gower's distance for all pairs of points"
   ]
  },
  {
   "cell_type": "code",
   "execution_count": 3,
   "metadata": {
    "ExecuteTime": {
     "end_time": "2021-10-24T07:47:25.913648Z",
     "start_time": "2021-10-24T07:47:25.881859Z"
    }
   },
   "outputs": [
    {
     "data": {
      "text/html": [
       "<div>\n",
       "<style scoped>\n",
       "    .dataframe tbody tr th:only-of-type {\n",
       "        vertical-align: middle;\n",
       "    }\n",
       "\n",
       "    .dataframe tbody tr th {\n",
       "        vertical-align: top;\n",
       "    }\n",
       "\n",
       "    .dataframe thead th {\n",
       "        text-align: right;\n",
       "    }\n",
       "</style>\n",
       "<table border=\"1\" class=\"dataframe\">\n",
       "  <thead>\n",
       "    <tr style=\"text-align: right;\">\n",
       "      <th></th>\n",
       "      <th>0</th>\n",
       "      <th>1</th>\n",
       "      <th>2</th>\n",
       "      <th>3</th>\n",
       "      <th>4</th>\n",
       "      <th>5</th>\n",
       "      <th>6</th>\n",
       "      <th>7</th>\n",
       "      <th>8</th>\n",
       "      <th>9</th>\n",
       "    </tr>\n",
       "  </thead>\n",
       "  <tbody>\n",
       "    <tr>\n",
       "      <th>0</th>\n",
       "      <td>0.000000</td>\n",
       "      <td>0.509715</td>\n",
       "      <td>0.416366</td>\n",
       "      <td>0.530396</td>\n",
       "      <td>0.163515</td>\n",
       "      <td>0.461960</td>\n",
       "      <td>0.197883</td>\n",
       "      <td>0.598592</td>\n",
       "      <td>0.529517</td>\n",
       "      <td>0.598635</td>\n",
       "    </tr>\n",
       "    <tr>\n",
       "      <th>1</th>\n",
       "      <td>0.509715</td>\n",
       "      <td>0.000000</td>\n",
       "      <td>0.592748</td>\n",
       "      <td>0.500604</td>\n",
       "      <td>0.541146</td>\n",
       "      <td>0.638342</td>\n",
       "      <td>0.707598</td>\n",
       "      <td>0.441640</td>\n",
       "      <td>0.618109</td>\n",
       "      <td>0.775017</td>\n",
       "    </tr>\n",
       "    <tr>\n",
       "      <th>2</th>\n",
       "      <td>0.416366</td>\n",
       "      <td>0.592748</td>\n",
       "      <td>0.000000</td>\n",
       "      <td>0.613428</td>\n",
       "      <td>0.432416</td>\n",
       "      <td>0.378928</td>\n",
       "      <td>0.544248</td>\n",
       "      <td>0.515559</td>\n",
       "      <td>0.465084</td>\n",
       "      <td>0.515602</td>\n",
       "    </tr>\n",
       "    <tr>\n",
       "      <th>3</th>\n",
       "      <td>0.530396</td>\n",
       "      <td>0.500604</td>\n",
       "      <td>0.613428</td>\n",
       "      <td>0.000000</td>\n",
       "      <td>0.561826</td>\n",
       "      <td>0.659023</td>\n",
       "      <td>0.728278</td>\n",
       "      <td>0.795654</td>\n",
       "      <td>0.638789</td>\n",
       "      <td>0.462364</td>\n",
       "    </tr>\n",
       "    <tr>\n",
       "      <th>4</th>\n",
       "      <td>0.163515</td>\n",
       "      <td>0.541146</td>\n",
       "      <td>0.432416</td>\n",
       "      <td>0.561826</td>\n",
       "      <td>0.000000</td>\n",
       "      <td>0.431752</td>\n",
       "      <td>0.309997</td>\n",
       "      <td>0.567161</td>\n",
       "      <td>0.410296</td>\n",
       "      <td>0.567204</td>\n",
       "    </tr>\n",
       "    <tr>\n",
       "      <th>5</th>\n",
       "      <td>0.461960</td>\n",
       "      <td>0.638342</td>\n",
       "      <td>0.378928</td>\n",
       "      <td>0.659023</td>\n",
       "      <td>0.431752</td>\n",
       "      <td>0.000000</td>\n",
       "      <td>0.544912</td>\n",
       "      <td>0.469965</td>\n",
       "      <td>0.131087</td>\n",
       "      <td>0.470008</td>\n",
       "    </tr>\n",
       "    <tr>\n",
       "      <th>6</th>\n",
       "      <td>0.197883</td>\n",
       "      <td>0.707598</td>\n",
       "      <td>0.544248</td>\n",
       "      <td>0.728278</td>\n",
       "      <td>0.309997</td>\n",
       "      <td>0.544912</td>\n",
       "      <td>0.000000</td>\n",
       "      <td>0.662810</td>\n",
       "      <td>0.675999</td>\n",
       "      <td>0.497945</td>\n",
       "    </tr>\n",
       "    <tr>\n",
       "      <th>7</th>\n",
       "      <td>0.598592</td>\n",
       "      <td>0.441640</td>\n",
       "      <td>0.515559</td>\n",
       "      <td>0.795654</td>\n",
       "      <td>0.567161</td>\n",
       "      <td>0.469965</td>\n",
       "      <td>0.662810</td>\n",
       "      <td>0.000000</td>\n",
       "      <td>0.490198</td>\n",
       "      <td>0.498199</td>\n",
       "    </tr>\n",
       "    <tr>\n",
       "      <th>8</th>\n",
       "      <td>0.529517</td>\n",
       "      <td>0.618109</td>\n",
       "      <td>0.465084</td>\n",
       "      <td>0.638789</td>\n",
       "      <td>0.410296</td>\n",
       "      <td>0.131087</td>\n",
       "      <td>0.675999</td>\n",
       "      <td>0.490198</td>\n",
       "      <td>0.000000</td>\n",
       "      <td>0.511388</td>\n",
       "    </tr>\n",
       "    <tr>\n",
       "      <th>9</th>\n",
       "      <td>0.598635</td>\n",
       "      <td>0.775017</td>\n",
       "      <td>0.515602</td>\n",
       "      <td>0.462364</td>\n",
       "      <td>0.567204</td>\n",
       "      <td>0.470008</td>\n",
       "      <td>0.497945</td>\n",
       "      <td>0.498199</td>\n",
       "      <td>0.511388</td>\n",
       "      <td>0.000000</td>\n",
       "    </tr>\n",
       "  </tbody>\n",
       "</table>\n",
       "</div>"
      ],
      "text/plain": [
       "          0         1         2         3         4         5         6  \\\n",
       "0  0.000000  0.509715  0.416366  0.530396  0.163515  0.461960  0.197883   \n",
       "1  0.509715  0.000000  0.592748  0.500604  0.541146  0.638342  0.707598   \n",
       "2  0.416366  0.592748  0.000000  0.613428  0.432416  0.378928  0.544248   \n",
       "3  0.530396  0.500604  0.613428  0.000000  0.561826  0.659023  0.728278   \n",
       "4  0.163515  0.541146  0.432416  0.561826  0.000000  0.431752  0.309997   \n",
       "5  0.461960  0.638342  0.378928  0.659023  0.431752  0.000000  0.544912   \n",
       "6  0.197883  0.707598  0.544248  0.728278  0.309997  0.544912  0.000000   \n",
       "7  0.598592  0.441640  0.515559  0.795654  0.567161  0.469965  0.662810   \n",
       "8  0.529517  0.618109  0.465084  0.638789  0.410296  0.131087  0.675999   \n",
       "9  0.598635  0.775017  0.515602  0.462364  0.567204  0.470008  0.497945   \n",
       "\n",
       "          7         8         9  \n",
       "0  0.598592  0.529517  0.598635  \n",
       "1  0.441640  0.618109  0.775017  \n",
       "2  0.515559  0.465084  0.515602  \n",
       "3  0.795654  0.638789  0.462364  \n",
       "4  0.567161  0.410296  0.567204  \n",
       "5  0.469965  0.131087  0.470008  \n",
       "6  0.662810  0.675999  0.497945  \n",
       "7  0.000000  0.490198  0.498199  \n",
       "8  0.490198  0.000000  0.511388  \n",
       "9  0.498199  0.511388  0.000000  "
      ]
     },
     "execution_count": 3,
     "metadata": {},
     "output_type": "execute_result"
    }
   ],
   "source": [
    "import gower\n",
    "\n",
    "dist_matrix = gower.gower_matrix(X)\n",
    "\n",
    "pd.DataFrame(dist_matrix)"
   ]
  },
  {
   "cell_type": "markdown",
   "metadata": {},
   "source": [
    "<br/>\n",
    "<br/>\n",
    "<br/>\n",
    "<br/>"
   ]
  },
  {
   "cell_type": "markdown",
   "metadata": {},
   "source": [
    "## Gower's distance for a pair of two points"
   ]
  },
  {
   "cell_type": "code",
   "execution_count": 4,
   "metadata": {
    "ExecuteTime": {
     "end_time": "2021-10-24T07:47:25.929650Z",
     "start_time": "2021-10-24T07:47:25.913648Z"
    }
   },
   "outputs": [
    {
     "data": {
      "text/plain": [
       "0.5097151803987718"
      ]
     },
     "execution_count": 4,
     "metadata": {},
     "output_type": "execute_result"
    }
   ],
   "source": [
    "X = np.array(X)\n",
    "\n",
    "# 0, 1번 사이의 거리\n",
    "((np.abs(X[0, :2] - X[1, :2]) / (X[:, :2].max(axis = 0) - X[:, :2].min(axis = 0))).sum() + 1) / 3"
   ]
  },
  {
   "cell_type": "markdown",
   "metadata": {},
   "source": [
    "<br/>\n",
    "<br/>\n",
    "<br/>\n",
    "<br/>"
   ]
  },
  {
   "cell_type": "markdown",
   "metadata": {},
   "source": [
    "## DBSCAN based on Gower's distance"
   ]
  },
  {
   "cell_type": "code",
   "execution_count": 5,
   "metadata": {
    "ExecuteTime": {
     "end_time": "2021-10-24T07:47:26.612958Z",
     "start_time": "2021-10-24T07:47:25.929650Z"
    }
   },
   "outputs": [
    {
     "data": {
      "text/plain": [
       "array([ 0, -1,  1, -1,  0,  1,  0, -1,  1, -1], dtype=int64)"
      ]
     },
     "execution_count": 5,
     "metadata": {},
     "output_type": "execute_result"
    }
   ],
   "source": [
    "from sklearn.cluster import DBSCAN\n",
    "\n",
    "db = DBSCAN(eps = 0.4, min_samples = 3, metric = 'precomputed').fit(dist_matrix)\n",
    "labels = db.labels_\n",
    "labels"
   ]
  },
  {
   "cell_type": "code",
   "execution_count": 6,
   "metadata": {
    "ExecuteTime": {
     "end_time": "2021-10-24T07:47:27.005971Z",
     "start_time": "2021-10-24T07:47:26.612958Z"
    }
   },
   "outputs": [
    {
     "data": {
      "image/png": "[encoded data removed]",
      "text/plain": [
       "<Figure size 432x288 with 2 Axes>"
      ]
     },
     "metadata": {
      "needs_background": "light"
     },
     "output_type": "display_data"
    }
   ],
   "source": [
    "sns.heatmap(dist_matrix)\n",
    "plt.show()"
   ]
  },
  {
   "cell_type": "markdown",
   "metadata": {},
   "source": [
    "<br/>\n",
    "<br/>\n",
    "<br/>\n",
    "<br/>"
   ]
  },
  {
   "cell_type": "markdown",
   "metadata": {},
   "source": [
    "## Another dataset"
   ]
  },
  {
   "cell_type": "code",
   "execution_count": 7,
   "metadata": {
    "ExecuteTime": {
     "end_time": "2021-10-24T07:47:27.037379Z",
     "start_time": "2021-10-24T07:47:27.005971Z"
    }
   },
   "outputs": [
    {
     "data": {
      "text/html": [
       "<div>\n",
       "<style scoped>\n",
       "    .dataframe tbody tr th:only-of-type {\n",
       "        vertical-align: middle;\n",
       "    }\n",
       "\n",
       "    .dataframe tbody tr th {\n",
       "        vertical-align: top;\n",
       "    }\n",
       "\n",
       "    .dataframe thead th {\n",
       "        text-align: right;\n",
       "    }\n",
       "</style>\n",
       "<table border=\"1\" class=\"dataframe\">\n",
       "  <thead>\n",
       "    <tr style=\"text-align: right;\">\n",
       "      <th></th>\n",
       "      <th>age</th>\n",
       "      <th>civil_status</th>\n",
       "      <th>salary</th>\n",
       "      <th>has_children</th>\n",
       "      <th>available_credit</th>\n",
       "    </tr>\n",
       "  </thead>\n",
       "  <tbody>\n",
       "    <tr>\n",
       "      <th>0</th>\n",
       "      <td>21.0</td>\n",
       "      <td>M</td>\n",
       "      <td>3000.0</td>\n",
       "      <td>1.0</td>\n",
       "      <td>2200.0</td>\n",
       "    </tr>\n",
       "    <tr>\n",
       "      <th>1</th>\n",
       "      <td>21.0</td>\n",
       "      <td>M</td>\n",
       "      <td>1200.0</td>\n",
       "      <td>0.0</td>\n",
       "      <td>100.0</td>\n",
       "    </tr>\n",
       "    <tr>\n",
       "      <th>2</th>\n",
       "      <td>19.0</td>\n",
       "      <td>N</td>\n",
       "      <td>32000.0</td>\n",
       "      <td>1.0</td>\n",
       "      <td>22000.0</td>\n",
       "    </tr>\n",
       "    <tr>\n",
       "      <th>3</th>\n",
       "      <td>30.0</td>\n",
       "      <td>M</td>\n",
       "      <td>1800.0</td>\n",
       "      <td>1.0</td>\n",
       "      <td>1100.0</td>\n",
       "    </tr>\n",
       "    <tr>\n",
       "      <th>4</th>\n",
       "      <td>21.0</td>\n",
       "      <td>F</td>\n",
       "      <td>2900.0</td>\n",
       "      <td>1.0</td>\n",
       "      <td>2000.0</td>\n",
       "    </tr>\n",
       "    <tr>\n",
       "      <th>5</th>\n",
       "      <td>21.0</td>\n",
       "      <td>F</td>\n",
       "      <td>1100.0</td>\n",
       "      <td>0.0</td>\n",
       "      <td>100.0</td>\n",
       "    </tr>\n",
       "    <tr>\n",
       "      <th>6</th>\n",
       "      <td>19.0</td>\n",
       "      <td>F</td>\n",
       "      <td>10000.0</td>\n",
       "      <td>0.0</td>\n",
       "      <td>6000.0</td>\n",
       "    </tr>\n",
       "    <tr>\n",
       "      <th>7</th>\n",
       "      <td>30.0</td>\n",
       "      <td>F</td>\n",
       "      <td>1500.0</td>\n",
       "      <td>1.0</td>\n",
       "      <td>2200.0</td>\n",
       "    </tr>\n",
       "    <tr>\n",
       "      <th>8</th>\n",
       "      <td>NaN</td>\n",
       "      <td>None</td>\n",
       "      <td>NaN</td>\n",
       "      <td>NaN</td>\n",
       "      <td>NaN</td>\n",
       "    </tr>\n",
       "  </tbody>\n",
       "</table>\n",
       "</div>"
      ],
      "text/plain": [
       "    age civil_status   salary  has_children  available_credit\n",
       "0  21.0            M   3000.0           1.0            2200.0\n",
       "1  21.0            M   1200.0           0.0             100.0\n",
       "2  19.0            N  32000.0           1.0           22000.0\n",
       "3  30.0            M   1800.0           1.0            1100.0\n",
       "4  21.0            F   2900.0           1.0            2000.0\n",
       "5  21.0            F   1100.0           0.0             100.0\n",
       "6  19.0            F  10000.0           0.0            6000.0\n",
       "7  30.0            F   1500.0           1.0            2200.0\n",
       "8   NaN         None      NaN           NaN               NaN"
      ]
     },
     "execution_count": 7,
     "metadata": {},
     "output_type": "execute_result"
    }
   ],
   "source": [
    "X = pd.DataFrame({\n",
    "    'age' : [21,21,19,30,21,21,19,30,None],\n",
    "    'civil_status' : ['M','M','N','M','F','F','F','F',None],\n",
    "    'salary' : [3000, 1200, 32000, 1800, 2900, 1100, 10000, 1500, None],\n",
    "    'has_children' : [1,0,1,1,1,0,0,1,None],\n",
    "    'available_credit' : [2200, 100, 22000, 1100, 2000, 100, 6000, 2200, None]\n",
    "})\n",
    "X"
   ]
  },
  {
   "cell_type": "code",
   "execution_count": 8,
   "metadata": {
    "ExecuteTime": {
     "end_time": "2021-10-24T07:47:27.097744Z",
     "start_time": "2021-10-24T07:47:27.040561Z"
    }
   },
   "outputs": [
    {
     "data": {
      "text/html": [
       "<div>\n",
       "<style scoped>\n",
       "    .dataframe tbody tr th:only-of-type {\n",
       "        vertical-align: middle;\n",
       "    }\n",
       "\n",
       "    .dataframe tbody tr th {\n",
       "        vertical-align: top;\n",
       "    }\n",
       "\n",
       "    .dataframe thead th {\n",
       "        text-align: right;\n",
       "    }\n",
       "</style>\n",
       "<table border=\"1\" class=\"dataframe\">\n",
       "  <thead>\n",
       "    <tr style=\"text-align: right;\">\n",
       "      <th></th>\n",
       "      <th>0</th>\n",
       "      <th>1</th>\n",
       "      <th>2</th>\n",
       "      <th>3</th>\n",
       "      <th>4</th>\n",
       "      <th>5</th>\n",
       "      <th>6</th>\n",
       "      <th>7</th>\n",
       "      <th>8</th>\n",
       "    </tr>\n",
       "  </thead>\n",
       "  <tbody>\n",
       "    <tr>\n",
       "      <th>0</th>\n",
       "      <td>0.000000</td>\n",
       "      <td>0.230829</td>\n",
       "      <td>0.604888</td>\n",
       "      <td>0.181449</td>\n",
       "      <td>0.202474</td>\n",
       "      <td>0.431476</td>\n",
       "      <td>0.516374</td>\n",
       "      <td>0.373345</td>\n",
       "      <td>NaN</td>\n",
       "    </tr>\n",
       "    <tr>\n",
       "      <th>1</th>\n",
       "      <td>0.230829</td>\n",
       "      <td>0.000000</td>\n",
       "      <td>0.835716</td>\n",
       "      <td>0.376652</td>\n",
       "      <td>0.428355</td>\n",
       "      <td>0.200647</td>\n",
       "      <td>0.347203</td>\n",
       "      <td>0.584756</td>\n",
       "      <td>NaN</td>\n",
       "    </tr>\n",
       "    <tr>\n",
       "      <th>2</th>\n",
       "      <td>0.604888</td>\n",
       "      <td>0.835716</td>\n",
       "      <td>0.000000</td>\n",
       "      <td>0.786337</td>\n",
       "      <td>0.607362</td>\n",
       "      <td>0.836364</td>\n",
       "      <td>0.688514</td>\n",
       "      <td>0.778233</td>\n",
       "      <td>NaN</td>\n",
       "    </tr>\n",
       "    <tr>\n",
       "      <th>3</th>\n",
       "      <td>0.181449</td>\n",
       "      <td>0.376652</td>\n",
       "      <td>0.786337</td>\n",
       "      <td>0.000000</td>\n",
       "      <td>0.378975</td>\n",
       "      <td>0.577300</td>\n",
       "      <td>0.697823</td>\n",
       "      <td>0.211987</td>\n",
       "      <td>NaN</td>\n",
       "    </tr>\n",
       "    <tr>\n",
       "      <th>4</th>\n",
       "      <td>0.202474</td>\n",
       "      <td>0.428355</td>\n",
       "      <td>0.607362</td>\n",
       "      <td>0.378975</td>\n",
       "      <td>0.000000</td>\n",
       "      <td>0.229002</td>\n",
       "      <td>0.318848</td>\n",
       "      <td>0.174524</td>\n",
       "      <td>NaN</td>\n",
       "    </tr>\n",
       "    <tr>\n",
       "      <th>5</th>\n",
       "      <td>0.431476</td>\n",
       "      <td>0.200647</td>\n",
       "      <td>0.836364</td>\n",
       "      <td>0.577300</td>\n",
       "      <td>0.229002</td>\n",
       "      <td>0.000000</td>\n",
       "      <td>0.147850</td>\n",
       "      <td>0.385403</td>\n",
       "      <td>NaN</td>\n",
       "    </tr>\n",
       "    <tr>\n",
       "      <th>6</th>\n",
       "      <td>0.516374</td>\n",
       "      <td>0.347203</td>\n",
       "      <td>0.688514</td>\n",
       "      <td>0.697823</td>\n",
       "      <td>0.318848</td>\n",
       "      <td>0.147850</td>\n",
       "      <td>0.000000</td>\n",
       "      <td>0.489719</td>\n",
       "      <td>NaN</td>\n",
       "    </tr>\n",
       "    <tr>\n",
       "      <th>7</th>\n",
       "      <td>0.373345</td>\n",
       "      <td>0.584756</td>\n",
       "      <td>0.778233</td>\n",
       "      <td>0.211987</td>\n",
       "      <td>0.174524</td>\n",
       "      <td>0.385403</td>\n",
       "      <td>0.489719</td>\n",
       "      <td>0.000000</td>\n",
       "      <td>NaN</td>\n",
       "    </tr>\n",
       "    <tr>\n",
       "      <th>8</th>\n",
       "      <td>NaN</td>\n",
       "      <td>NaN</td>\n",
       "      <td>NaN</td>\n",
       "      <td>NaN</td>\n",
       "      <td>NaN</td>\n",
       "      <td>NaN</td>\n",
       "      <td>NaN</td>\n",
       "      <td>NaN</td>\n",
       "      <td>NaN</td>\n",
       "    </tr>\n",
       "  </tbody>\n",
       "</table>\n",
       "</div>"
      ],
      "text/plain": [
       "          0         1         2         3         4         5         6  \\\n",
       "0  0.000000  0.230829  0.604888  0.181449  0.202474  0.431476  0.516374   \n",
       "1  0.230829  0.000000  0.835716  0.376652  0.428355  0.200647  0.347203   \n",
       "2  0.604888  0.835716  0.000000  0.786337  0.607362  0.836364  0.688514   \n",
       "3  0.181449  0.376652  0.786337  0.000000  0.378975  0.577300  0.697823   \n",
       "4  0.202474  0.428355  0.607362  0.378975  0.000000  0.229002  0.318848   \n",
       "5  0.431476  0.200647  0.836364  0.577300  0.229002  0.000000  0.147850   \n",
       "6  0.516374  0.347203  0.688514  0.697823  0.318848  0.147850  0.000000   \n",
       "7  0.373345  0.584756  0.778233  0.211987  0.174524  0.385403  0.489719   \n",
       "8       NaN       NaN       NaN       NaN       NaN       NaN       NaN   \n",
       "\n",
       "          7   8  \n",
       "0  0.373345 NaN  \n",
       "1  0.584756 NaN  \n",
       "2  0.778233 NaN  \n",
       "3  0.211987 NaN  \n",
       "4  0.174524 NaN  \n",
       "5  0.385403 NaN  \n",
       "6  0.489719 NaN  \n",
       "7  0.000000 NaN  \n",
       "8       NaN NaN  "
      ]
     },
     "execution_count": 8,
     "metadata": {},
     "output_type": "execute_result"
    }
   ],
   "source": [
    "X = X.to_numpy()\n",
    "pd.DataFrame(gower.gower_matrix(X))"
   ]
  }
 ],
 "metadata": {
  "kernelspec": {
   "display_name": "Python 3",
   "language": "python",
   "name": "python3"
  },
  "language_info": {
   "codemirror_mode": {
    "name": "ipython",
    "version": 3
   },
   "file_extension": ".py",
   "mimetype": "text/x-python",
   "name": "python",
   "nbconvert_exporter": "python",
   "pygments_lexer": "ipython3",
   "version": "3.8.5"
  },
  "toc": {
   "base_numbering": 1,
   "nav_menu": {},
   "number_sections": true,
   "sideBar": true,
   "skip_h1_title": false,
   "title_cell": "Table of Contents",
   "title_sidebar": "Contents",
   "toc_cell": false,
   "toc_position": {},
   "toc_section_display": true,
   "toc_window_display": false
  },
  "varInspector": {
   "cols": {
    "lenName": 16,
    "lenType": 16,
    "lenVar": 40
   },
   "kernels_config": {
    "python": {
     "delete_cmd_postfix": "",
     "delete_cmd_prefix": "del ",
     "library": "var_list.py",
     "varRefreshCmd": "print(var_dic_list())"
    },
    "r": {
     "delete_cmd_postfix": ") ",
     "delete_cmd_prefix": "rm(",
     "library": "var_list.r",
     "varRefreshCmd": "cat(var_dic_list()) "
    }
   },
   "types_to_exclude": [
    "module",
    "function",
    "builtin_function_or_method",
    "instance",
    "_Feature"
   ],
   "window_display": false
  }
 },
 "nbformat": 4,
 "nbformat_minor": 4
}
